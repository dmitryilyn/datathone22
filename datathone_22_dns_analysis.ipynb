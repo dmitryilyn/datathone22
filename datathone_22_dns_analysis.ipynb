{
 "cells": [
  {
   "cell_type": "code",
   "execution_count": 1,
   "metadata": {},
   "outputs": [],
   "source": [
    "import numpy as np\n",
    "import pandas as pd\n",
    "import matplotlib.pyplot as plt\n",
    "import seaborn as sns\n",
    "import cufflinks as cf\n",
    "%matplotlib inline"
   ]
  },
  {
   "cell_type": "markdown",
   "metadata": {
    "jp-MarkdownHeadingCollapsed": true,
    "tags": []
   },
   "source": [
    "## Описание датасета\n",
    "\n",
    "Ниже приведено описание преобразованного датасета, полученного в результате сбора данных о стоимости и технических характеристиках реализуемых ноутбуков по состоянию на 24.12.2022:\n",
    "* **rating** - пользовательский рейтинг;\n",
    "* **votes** - количество ценок пользователей;\n",
    "* **service_rating** - \"сервисный рейтинг\" - оценка надежности на основе жалоб и обращений в сервисный центр. Приведён в диапазоне от 0 до 100%, где 100% - обращений не зафиксировано, 0 - рейтинг отсутствует;\n",
    "* **price** - цена ноутбука;\n",
    "* **price_discount** - цена с учётом скидки;\n",
    "* **warranty** - гарантия от производителя;\n",
    "* **model_id** - идентификатор модели ноутбука;\n",
    "* **release_year** - год релиза модели;\n",
    "* **operating_system** - предустановленная операционная система;\n",
    "* **game_notebook** - признак игрового ноутбука;\n",
    "* **cover_color** - цвет верхней крышки ноутбука;\n",
    "* **cover_material** - материал верхней крышки ноутбука;\n",
    "* **body_material** - материал корпуса ноубука;\n",
    "* **numpad_layout** - признак наличия цифрового блока на клавиатуре;\n",
    "* **keyboard_backlight** - подсветка клавиатуры;\n",
    "* **touchpad** - тип тачпада;\n",
    "* **fingerprint** - признак наличия сканера отпечатка пальцев;\n",
    "* **mech_keyboard** - признак механической клавиатуры ноутбука;\n",
    "* **screen_type** - тип матрицы экрана; \n",
    "* **screen_size** - размер экрана в дюймах;\n",
    "* **screen_res** - разрешение экрана;\n",
    "* **screen_coat** - тип покрытия экрана (матовое/глянцевое);\n",
    "* **screen_sensor** - признак сенсорного экрана ноутбука;\n",
    "* **screen_frec** - частота обновления экрана, Гц;\n",
    "* **screen_bright** - яркость экрана, $Кд/м^2$;\n",
    "* **screen_ppi** - количество пикселей на квадратный дюйм матрицы, ppi;\n",
    "* **screen_sync** - технология динамического обновления экрана;\n",
    "* **cpu_model** - модель процессора;\n",
    "* **cpu_core** - количество ядер процессора;\n",
    "* **cpu_core_productive** - количество производительных ядер процессора;\n",
    "* **cpu_core_effective** - количество энергоэффективных ядер процессора;\n",
    "* **cpu_thread** - количество потоков;\n",
    "* **cpu_freq** - частота процессора;\n",
    "* **cpu_accelerated** - признак возможности автоматического увеличения частоты процессора;\n",
    "* **ram_type** - тип оперативной памяти;\n",
    "* **ram_capacity** - емкость оперативной памяти;\n",
    "* **ram_freq** - частота модулей оперативной памяти;\n",
    "* **gpu_model_int** - модель встроеннего графического ускорителя;\n",
    "* **gpu_model_disc** - модель дискретного графического ускорителя;\n",
    "* **ssd_volume** - общий объём памяти на SSD накопителе данных;\n",
    "* **hdd_volume** - общий объём памяти на HDD накопителе данных;\n",
    "* **emmc_volume** - общий объём памяти на eMMC накопителе данных;\n",
    "* **webcam** - признак наличия встроенной веб-камеры;\n",
    "* **card_type** - типы поддерживаемых карт памяти встроенным картридером;\n",
    "* **ethernet_port** - признак наличия порта Ethernet;\n",
    "* **video_port** - тип видеопорта; \n",
    "* **audio_port** - тип аудиопорта; \n",
    "* **usb_type_a** - количество портов типа USB type-A; \n",
    "* **usb_type_c** - количество портов типа USB type-C; \n",
    "* **additional_interfaces** - дополнительные интерфейсы;\n",
    "* **thunderbolt** - тип порта Thunderbolt;\n",
    "* **usb_power_delivery** - поддержка технологии USB Power Delivery;\n",
    "* **acc_type** - тип аккумулятора;\n",
    "* **acc_capacity** - ёмъкость аккумулятора, Вт/час;\n",
    "* **acc_time** - ориентировочное время автономной работы, час; \n",
    "* **depth** - толщина, мм;\n",
    "* **width** - ширина, мм;\n",
    "* **height** - высота, мм;\n",
    "* **weight** - вес, кг;\n",
    "* **ram_slots** - количество слотов оперативной памяти;\n",
    "* **ram_max_volume** - максимальный поддерживаемый размер оперативной памяти;\n",
    "* **ram_free_slot** - количество свободных слотов оперативной памяти;\n",
    "* **second_display** - признак наличия второго дисплея (touch bar, screen pad); \n",
    "* **video_port_type** - тип видеопорта; \n",
    "* **tpm_support** - поддержка модуля TPM; \n",
    "* **ssd_type** - тип SSD накопителя;\n",
    "* **seller_warranty** - гарантия, предоставляемая продавцом, мес;\n",
    "* **screen_color_depth** - цветовой охват (диапазон воспроизводимых цветов);\n",
    "* **adapter_output_power** - выходная мощность адаптера питания, Вт;\n",
    "* **gpu_manufacturer** - производитель процессора видеокарты;\n",
    "* **video_type** - тип оперативной памяти видеокарты;\n",
    "* **gddr_volume** - объём оперативной памяти видеокарты, Гб;\n",
    "* **freq_with_acc** - тактовая частота процессора в режиме ускорения, МГц;\n",
    "* **screen_hdr** - поддержка технологии HDR;\n",
    "* **power_consumption_max** - максимальная потребляемая мощность;\n",
    "* **discount** - размер скидки, руб.;\n",
    "* **percentage_discount** - размер скидки, %;\n",
    "* **brand** - брэнд;\n",
    "* **model_name** - название модели;\n",
    "* **transformer** - признак отношения ноутбука к классу трансформеров;\n",
    "* **ru_keyboard** - признак наличия русской раскладки клавиатуры;\n",
    "* **keyboard_backlight_type** - тип подсветки клавиатуры;\n",
    "* **cpu_vendor** - производитель процессора;\n",
    "* **discrete_gpu** - признак наличия дискретной видеокарты;\n",
    "* **gpu_vendor_disc** - производитель дискретной видеокарты;\n",
    "* **card_slot_mmc_support** - признак поддержки MMC-карт; \n",
    "* **card_slot_type** - тип слота под карту памяти;\n",
    "* **wifi** - тип встроенного Wi-Fi;\n",
    "* **bluetooth** - тип встроенного Bluetooth;\n",
    "* **cellular** - тип встроенного сотового модема;\n",
    "* **ethernet_port_speed** - скорость Ethernet-порта."
   ]
  },
  {
   "cell_type": "markdown",
   "metadata": {},
   "source": [
    "## Загрузим очищенный датасет и сконвертируем часть признаков в категориальные"
   ]
  },
  {
   "cell_type": "code",
   "execution_count": 2,
   "metadata": {},
   "outputs": [],
   "source": [
    "dns_laptop_df = pd.read_csv('data/dns_laptop_dataset.csv')"
   ]
  },
  {
   "cell_type": "code",
   "execution_count": 3,
   "metadata": {},
   "outputs": [],
   "source": [
    "# Приведем к категориальному типу\n",
    "dns_laptop_df['operating_system'] = dns_laptop_df['operating_system'].astype('category')\n",
    "dns_laptop_df['cover_color'] = dns_laptop_df['cover_color'].astype('category')\n",
    "dns_laptop_df['cover_material'] = dns_laptop_df['cover_material'].astype('category')\n",
    "dns_laptop_df['screen_coat'] = dns_laptop_df['cover_material'].astype('category')\n",
    "# dns_laptop_df['cpu_core'] = dns_laptop_df['cpu_core'].astype('int')\n",
    "\n",
    "#Подумать, может как-то обработать?\n",
    "dns_laptop_df['body_material'] = dns_laptop_df['body_material'].astype('category')\n",
    "dns_laptop_df['touchpad'] = dns_laptop_df['touchpad'].astype('category')\n",
    "dns_laptop_df['screen_sync'] = dns_laptop_df['screen_sync'].astype('category')\n",
    "dns_laptop_df['screen_res'] = dns_laptop_df['screen_res'].astype('category')\n",
    "dns_laptop_df['ram_type'] = dns_laptop_df['ram_type'].astype('category')\n",
    "\n",
    "dns_laptop_df['thunderbolt'] = dns_laptop_df['thunderbolt'].astype('category')\n",
    "dns_laptop_df['acc_type'] = dns_laptop_df['acc_type'].astype('category')\n",
    "dns_laptop_df['ram_slots'] = dns_laptop_df['ram_slots'].astype('category')\n",
    "dns_laptop_df['ram_free_slot'] = dns_laptop_df['ram_free_slot'].astype('category')\n",
    "dns_laptop_df['second_display'] = dns_laptop_df['second_display'].astype('category')\n",
    "dns_laptop_df['video_port_type'] = dns_laptop_df['video_port_type'].astype('category')\n",
    "dns_laptop_df['tpm_support'] = dns_laptop_df['tpm_support'].astype('category')\n",
    "dns_laptop_df['ssd_type'] = dns_laptop_df['ssd_type'].astype('category')\n",
    "dns_laptop_df['seller_warranty'] = dns_laptop_df['seller_warranty'].astype('category')\n",
    "dns_laptop_df['gpu_manufacturer'] = dns_laptop_df['gpu_manufacturer'].astype('category')\n",
    "dns_laptop_df['video_type'] = dns_laptop_df['video_type'].astype('category')\n",
    "dns_laptop_df['screen_hdr'] = dns_laptop_df['screen_hdr'].astype('category')\n",
    "dns_laptop_df['screen_color_depth'] = dns_laptop_df['screen_color_depth'].astype('category')\n",
    "dns_laptop_df['acc_capacity'] = dns_laptop_df['acc_capacity'].astype('category')"
   ]
  },
  {
   "cell_type": "code",
   "execution_count": 4,
   "metadata": {},
   "outputs": [
    {
     "data": {
      "text/html": [
       "<div>\n",
       "<style scoped>\n",
       "    .dataframe tbody tr th:only-of-type {\n",
       "        vertical-align: middle;\n",
       "    }\n",
       "\n",
       "    .dataframe tbody tr th {\n",
       "        vertical-align: top;\n",
       "    }\n",
       "\n",
       "    .dataframe thead th {\n",
       "        text-align: right;\n",
       "    }\n",
       "</style>\n",
       "<table border=\"1\" class=\"dataframe\">\n",
       "  <thead>\n",
       "    <tr style=\"text-align: right;\">\n",
       "      <th></th>\n",
       "      <th>rating</th>\n",
       "      <th>votes</th>\n",
       "      <th>service_rating</th>\n",
       "      <th>price</th>\n",
       "      <th>price_discount</th>\n",
       "      <th>warranty</th>\n",
       "      <th>type</th>\n",
       "      <th>model_id</th>\n",
       "      <th>release_year</th>\n",
       "      <th>operating_system</th>\n",
       "      <th>...</th>\n",
       "      <th>keyboard_backlight_type</th>\n",
       "      <th>cpu_vendor</th>\n",
       "      <th>discrete_gpu</th>\n",
       "      <th>gpu_vendor_disc</th>\n",
       "      <th>card_slot_mmc_support</th>\n",
       "      <th>card_slot_type</th>\n",
       "      <th>wifi</th>\n",
       "      <th>bluetooth</th>\n",
       "      <th>cellular</th>\n",
       "      <th>ethernet_port_speed</th>\n",
       "    </tr>\n",
       "  </thead>\n",
       "  <tbody>\n",
       "    <tr>\n",
       "      <th>0</th>\n",
       "      <td>3.5</td>\n",
       "      <td>89</td>\n",
       "      <td>93.11</td>\n",
       "      <td>14999</td>\n",
       "      <td>14999</td>\n",
       "      <td>12</td>\n",
       "      <td>ноутбук</td>\n",
       "      <td>NB77</td>\n",
       "      <td>2021</td>\n",
       "      <td>Windows 10 Home Single Language</td>\n",
       "      <td>...</td>\n",
       "      <td>NaN</td>\n",
       "      <td>Intel</td>\n",
       "      <td>False</td>\n",
       "      <td>NaN</td>\n",
       "      <td>False</td>\n",
       "      <td>NaN</td>\n",
       "      <td>WI-FI 4 (802.11n)</td>\n",
       "      <td>Bluetooth 4.0</td>\n",
       "      <td>NaN</td>\n",
       "      <td>NaN</td>\n",
       "    </tr>\n",
       "    <tr>\n",
       "      <th>1</th>\n",
       "      <td>4.5</td>\n",
       "      <td>52</td>\n",
       "      <td>97.67</td>\n",
       "      <td>15999</td>\n",
       "      <td>15999</td>\n",
       "      <td>12</td>\n",
       "      <td>ноутбук</td>\n",
       "      <td>NB257</td>\n",
       "      <td>2021</td>\n",
       "      <td>Windows 10 Home Single Language</td>\n",
       "      <td>...</td>\n",
       "      <td>NaN</td>\n",
       "      <td>Intel</td>\n",
       "      <td>False</td>\n",
       "      <td>NaN</td>\n",
       "      <td>False</td>\n",
       "      <td>NaN</td>\n",
       "      <td>WI-FI 4 (802.11n)</td>\n",
       "      <td>Bluetooth 4.0</td>\n",
       "      <td>NaN</td>\n",
       "      <td>NaN</td>\n",
       "    </tr>\n",
       "    <tr>\n",
       "      <th>2</th>\n",
       "      <td>4.0</td>\n",
       "      <td>27</td>\n",
       "      <td>98.70</td>\n",
       "      <td>15999</td>\n",
       "      <td>15999</td>\n",
       "      <td>12</td>\n",
       "      <td>ноутбук</td>\n",
       "      <td>NB270</td>\n",
       "      <td>2021</td>\n",
       "      <td>Windows 10 Pro</td>\n",
       "      <td>...</td>\n",
       "      <td>NaN</td>\n",
       "      <td>Intel</td>\n",
       "      <td>False</td>\n",
       "      <td>NaN</td>\n",
       "      <td>False</td>\n",
       "      <td>microSD</td>\n",
       "      <td>WI-FI 4 (802.11n)</td>\n",
       "      <td>Bluetooth 4.0</td>\n",
       "      <td>NaN</td>\n",
       "      <td>NaN</td>\n",
       "    </tr>\n",
       "    <tr>\n",
       "      <th>3</th>\n",
       "      <td>2.5</td>\n",
       "      <td>3</td>\n",
       "      <td>97.76</td>\n",
       "      <td>17999</td>\n",
       "      <td>17999</td>\n",
       "      <td>12</td>\n",
       "      <td>ноутбук</td>\n",
       "      <td>ES4060EW</td>\n",
       "      <td>2022</td>\n",
       "      <td>Windows 10 Home Single Language</td>\n",
       "      <td>...</td>\n",
       "      <td>NaN</td>\n",
       "      <td>Intel</td>\n",
       "      <td>False</td>\n",
       "      <td>NaN</td>\n",
       "      <td>False</td>\n",
       "      <td>microSD</td>\n",
       "      <td>WI-FI 4 (802.11n)</td>\n",
       "      <td>Bluetooth 4.0</td>\n",
       "      <td>NaN</td>\n",
       "      <td>NaN</td>\n",
       "    </tr>\n",
       "    <tr>\n",
       "      <th>4</th>\n",
       "      <td>0.0</td>\n",
       "      <td>0</td>\n",
       "      <td>0.00</td>\n",
       "      <td>19199</td>\n",
       "      <td>19199</td>\n",
       "      <td>12</td>\n",
       "      <td>ноутбук</td>\n",
       "      <td>NB283</td>\n",
       "      <td>2021</td>\n",
       "      <td>Windows 10 Pro</td>\n",
       "      <td>...</td>\n",
       "      <td>NaN</td>\n",
       "      <td>Intel</td>\n",
       "      <td>False</td>\n",
       "      <td>NaN</td>\n",
       "      <td>False</td>\n",
       "      <td>microSD</td>\n",
       "      <td>WI-FI 4 (802.11n)</td>\n",
       "      <td>Bluetooth 4.0</td>\n",
       "      <td>NaN</td>\n",
       "      <td>NaN</td>\n",
       "    </tr>\n",
       "    <tr>\n",
       "      <th>5</th>\n",
       "      <td>3.5</td>\n",
       "      <td>35</td>\n",
       "      <td>94.49</td>\n",
       "      <td>19999</td>\n",
       "      <td>19999</td>\n",
       "      <td>12</td>\n",
       "      <td>ноутбук</td>\n",
       "      <td>NB261</td>\n",
       "      <td>2020</td>\n",
       "      <td>Windows 10 Home Single Language</td>\n",
       "      <td>...</td>\n",
       "      <td>NaN</td>\n",
       "      <td>Intel</td>\n",
       "      <td>False</td>\n",
       "      <td>NaN</td>\n",
       "      <td>False</td>\n",
       "      <td>microSD</td>\n",
       "      <td>WI-FI 4 (802.11n)</td>\n",
       "      <td>Bluetooth 4.0</td>\n",
       "      <td>NaN</td>\n",
       "      <td>NaN</td>\n",
       "    </tr>\n",
       "    <tr>\n",
       "      <th>6</th>\n",
       "      <td>4.0</td>\n",
       "      <td>16</td>\n",
       "      <td>92.93</td>\n",
       "      <td>19999</td>\n",
       "      <td>19999</td>\n",
       "      <td>12</td>\n",
       "      <td>ноутбук</td>\n",
       "      <td>NB262</td>\n",
       "      <td>2021</td>\n",
       "      <td>Windows 10 Home Single Language</td>\n",
       "      <td>...</td>\n",
       "      <td>NaN</td>\n",
       "      <td>Intel</td>\n",
       "      <td>False</td>\n",
       "      <td>NaN</td>\n",
       "      <td>False</td>\n",
       "      <td>NaN</td>\n",
       "      <td>WI-FI 4 (802.11n)</td>\n",
       "      <td>Bluetooth 4.0</td>\n",
       "      <td>NaN</td>\n",
       "      <td>NaN</td>\n",
       "    </tr>\n",
       "    <tr>\n",
       "      <th>7</th>\n",
       "      <td>3.5</td>\n",
       "      <td>5</td>\n",
       "      <td>98.83</td>\n",
       "      <td>19999</td>\n",
       "      <td>19999</td>\n",
       "      <td>12</td>\n",
       "      <td>ноутбук</td>\n",
       "      <td>NB263</td>\n",
       "      <td>2022</td>\n",
       "      <td>Windows 10 Home Single Language</td>\n",
       "      <td>...</td>\n",
       "      <td>NaN</td>\n",
       "      <td>Intel</td>\n",
       "      <td>False</td>\n",
       "      <td>NaN</td>\n",
       "      <td>False</td>\n",
       "      <td>microSD</td>\n",
       "      <td>WI-FI 4 (802.11n)</td>\n",
       "      <td>Bluetooth 4.0</td>\n",
       "      <td>NaN</td>\n",
       "      <td>NaN</td>\n",
       "    </tr>\n",
       "    <tr>\n",
       "      <th>8</th>\n",
       "      <td>3.5</td>\n",
       "      <td>17</td>\n",
       "      <td>97.39</td>\n",
       "      <td>19999</td>\n",
       "      <td>19999</td>\n",
       "      <td>12</td>\n",
       "      <td>ноутбук</td>\n",
       "      <td>NB285</td>\n",
       "      <td>2021</td>\n",
       "      <td>Windows 10 Pro</td>\n",
       "      <td>...</td>\n",
       "      <td>NaN</td>\n",
       "      <td>Intel</td>\n",
       "      <td>False</td>\n",
       "      <td>NaN</td>\n",
       "      <td>False</td>\n",
       "      <td>microSD</td>\n",
       "      <td>WI-FI 4 (802.11n)</td>\n",
       "      <td>Bluetooth 4.0</td>\n",
       "      <td>NaN</td>\n",
       "      <td>NaN</td>\n",
       "    </tr>\n",
       "    <tr>\n",
       "      <th>9</th>\n",
       "      <td>4.5</td>\n",
       "      <td>11</td>\n",
       "      <td>99.78</td>\n",
       "      <td>27999</td>\n",
       "      <td>25199</td>\n",
       "      <td>0</td>\n",
       "      <td>ноутбук</td>\n",
       "      <td>82C70084RU</td>\n",
       "      <td>2020</td>\n",
       "      <td>без ОС</td>\n",
       "      <td>...</td>\n",
       "      <td>NaN</td>\n",
       "      <td>AMD</td>\n",
       "      <td>False</td>\n",
       "      <td>NaN</td>\n",
       "      <td>True</td>\n",
       "      <td>SD</td>\n",
       "      <td>WI-FI 5 (802.11ac)</td>\n",
       "      <td>Bluetooth 5.0</td>\n",
       "      <td>NaN</td>\n",
       "      <td>NaN</td>\n",
       "    </tr>\n",
       "  </tbody>\n",
       "</table>\n",
       "<p>10 rows × 90 columns</p>\n",
       "</div>"
      ],
      "text/plain": [
       "   rating  votes  service_rating  price  price_discount  warranty     type  \\\n",
       "0     3.5     89           93.11  14999           14999        12  ноутбук   \n",
       "1     4.5     52           97.67  15999           15999        12  ноутбук   \n",
       "2     4.0     27           98.70  15999           15999        12  ноутбук   \n",
       "3     2.5      3           97.76  17999           17999        12  ноутбук   \n",
       "4     0.0      0            0.00  19199           19199        12  ноутбук   \n",
       "5     3.5     35           94.49  19999           19999        12  ноутбук   \n",
       "6     4.0     16           92.93  19999           19999        12  ноутбук   \n",
       "7     3.5      5           98.83  19999           19999        12  ноутбук   \n",
       "8     3.5     17           97.39  19999           19999        12  ноутбук   \n",
       "9     4.5     11           99.78  27999           25199         0  ноутбук   \n",
       "\n",
       "     model_id  release_year                 operating_system  ...  \\\n",
       "0        NB77          2021  Windows 10 Home Single Language  ...   \n",
       "1       NB257          2021  Windows 10 Home Single Language  ...   \n",
       "2       NB270          2021                   Windows 10 Pro  ...   \n",
       "3    ES4060EW          2022  Windows 10 Home Single Language  ...   \n",
       "4       NB283          2021                   Windows 10 Pro  ...   \n",
       "5       NB261          2020  Windows 10 Home Single Language  ...   \n",
       "6       NB262          2021  Windows 10 Home Single Language  ...   \n",
       "7       NB263          2022  Windows 10 Home Single Language  ...   \n",
       "8       NB285          2021                   Windows 10 Pro  ...   \n",
       "9  82C70084RU          2020                           без ОС  ...   \n",
       "\n",
       "   keyboard_backlight_type cpu_vendor discrete_gpu gpu_vendor_disc  \\\n",
       "0                      NaN      Intel        False             NaN   \n",
       "1                      NaN      Intel        False             NaN   \n",
       "2                      NaN      Intel        False             NaN   \n",
       "3                      NaN      Intel        False             NaN   \n",
       "4                      NaN      Intel        False             NaN   \n",
       "5                      NaN      Intel        False             NaN   \n",
       "6                      NaN      Intel        False             NaN   \n",
       "7                      NaN      Intel        False             NaN   \n",
       "8                      NaN      Intel        False             NaN   \n",
       "9                      NaN        AMD        False             NaN   \n",
       "\n",
       "  card_slot_mmc_support  card_slot_type                wifi       bluetooth  \\\n",
       "0                 False             NaN   WI-FI 4 (802.11n)   Bluetooth 4.0   \n",
       "1                 False             NaN   WI-FI 4 (802.11n)   Bluetooth 4.0   \n",
       "2                 False         microSD   WI-FI 4 (802.11n)   Bluetooth 4.0   \n",
       "3                 False         microSD   WI-FI 4 (802.11n)   Bluetooth 4.0   \n",
       "4                 False         microSD   WI-FI 4 (802.11n)   Bluetooth 4.0   \n",
       "5                 False         microSD   WI-FI 4 (802.11n)   Bluetooth 4.0   \n",
       "6                 False             NaN   WI-FI 4 (802.11n)   Bluetooth 4.0   \n",
       "7                 False         microSD   WI-FI 4 (802.11n)   Bluetooth 4.0   \n",
       "8                 False         microSD   WI-FI 4 (802.11n)   Bluetooth 4.0   \n",
       "9                  True              SD  WI-FI 5 (802.11ac)   Bluetooth 5.0   \n",
       "\n",
       "   cellular ethernet_port_speed  \n",
       "0       NaN                 NaN  \n",
       "1       NaN                 NaN  \n",
       "2       NaN                 NaN  \n",
       "3       NaN                 NaN  \n",
       "4       NaN                 NaN  \n",
       "5       NaN                 NaN  \n",
       "6       NaN                 NaN  \n",
       "7       NaN                 NaN  \n",
       "8       NaN                 NaN  \n",
       "9       NaN                 NaN  \n",
       "\n",
       "[10 rows x 90 columns]"
      ]
     },
     "execution_count": 4,
     "metadata": {},
     "output_type": "execute_result"
    }
   ],
   "source": [
    "dns_laptop_df.head(10)"
   ]
  },
  {
   "cell_type": "markdown",
   "metadata": {},
   "source": [
    "## Информация о колонках"
   ]
  },
  {
   "cell_type": "code",
   "execution_count": 5,
   "metadata": {},
   "outputs": [
    {
     "name": "stdout",
     "output_type": "stream",
     "text": [
      "<class 'pandas.core.frame.DataFrame'>\n",
      "RangeIndex: 714 entries, 0 to 713\n",
      "Data columns (total 90 columns):\n",
      " #   Column                   Non-Null Count  Dtype   \n",
      "---  ------                   --------------  -----   \n",
      " 0   rating                   714 non-null    float64 \n",
      " 1   votes                    714 non-null    int64   \n",
      " 2   service_rating           714 non-null    float64 \n",
      " 3   price                    714 non-null    int64   \n",
      " 4   price_discount           714 non-null    int64   \n",
      " 5   warranty                 714 non-null    int64   \n",
      " 6   type                     714 non-null    object  \n",
      " 7   model_id                 693 non-null    object  \n",
      " 8   release_year             714 non-null    int64   \n",
      " 9   operating_system         714 non-null    category\n",
      " 10  game_notebook            714 non-null    bool    \n",
      " 11  cover_color              714 non-null    category\n",
      " 12  cover_material           712 non-null    category\n",
      " 13  body_material            714 non-null    category\n",
      " 14  touchpad                 714 non-null    category\n",
      " 15  fingerprint              714 non-null    bool    \n",
      " 16  mech_keyboard            714 non-null    bool    \n",
      " 17  screen_type              714 non-null    object  \n",
      " 18  screen_size              714 non-null    float64 \n",
      " 19  screen_res               714 non-null    category\n",
      " 20  screen_coat              712 non-null    category\n",
      " 21  screen_sensor            714 non-null    bool    \n",
      " 22  screen_frec              708 non-null    float64 \n",
      " 23  screen_bright            568 non-null    float64 \n",
      " 24  screen_ppi               714 non-null    float64 \n",
      " 25  screen_sync              680 non-null    category\n",
      " 26  cpu_model                714 non-null    object  \n",
      " 27  cpu_core                 714 non-null    float64 \n",
      " 28  cpu_core_productive      714 non-null    int64   \n",
      " 29  cpu_core_effective       714 non-null    int64   \n",
      " 30  cpu_thread               714 non-null    int64   \n",
      " 31  cpu_freq                 714 non-null    float64 \n",
      " 32  cpu_accelerated          714 non-null    float64 \n",
      " 33  ram_type                 714 non-null    category\n",
      " 34  ram_capacity             714 non-null    int64   \n",
      " 35  ram_freq                 630 non-null    float64 \n",
      " 36  gpu_model_int            714 non-null    object  \n",
      " 37  gpu_model_disc           204 non-null    object  \n",
      " 38  ssd_volume               714 non-null    int64   \n",
      " 39  hdd_volume               714 non-null    int64   \n",
      " 40  emmc_volume              714 non-null    int64   \n",
      " 41  webcam                   713 non-null    float64 \n",
      " 42  card_type                714 non-null    object  \n",
      " 43  ethernet_port            714 non-null    bool    \n",
      " 44  video_port               714 non-null    object  \n",
      " 45  audio_port               714 non-null    object  \n",
      " 46  usb_type_a               713 non-null    object  \n",
      " 47  usb_type_c               709 non-null    object  \n",
      " 48  additional_interfaces    457 non-null    object  \n",
      " 49  thunderbolt              714 non-null    category\n",
      " 50  usb_power_delivery       714 non-null    bool    \n",
      " 51  acc_type                 714 non-null    category\n",
      " 52  acc_capacity             693 non-null    category\n",
      " 53  acc_time                 458 non-null    float64 \n",
      " 54  depth                    708 non-null    float64 \n",
      " 55  width                    706 non-null    float64 \n",
      " 56  height                   714 non-null    float64 \n",
      " 57  weight                   712 non-null    float64 \n",
      " 58  ram_slots                686 non-null    category\n",
      " 59  ram_max_volume           671 non-null    float64 \n",
      " 60  ram_free_slot            570 non-null    category\n",
      " 61  second_display           203 non-null    category\n",
      " 62  video_port_type          581 non-null    category\n",
      " 63  tpm_support              516 non-null    category\n",
      " 64  ssd_type                 620 non-null    category\n",
      " 65  seller_warranty          228 non-null    category\n",
      " 66  screen_color_depth       480 non-null    category\n",
      " 67  adapter_output_power     661 non-null    float64 \n",
      " 68  gpu_manufacturer         204 non-null    category\n",
      " 69  video_type               203 non-null    category\n",
      " 70  gddr_volume              200 non-null    float64 \n",
      " 71  freq_with_acc            117 non-null    float64 \n",
      " 72  screen_hdr               102 non-null    category\n",
      " 73  power_consumption_max    122 non-null    float64 \n",
      " 74  discount                 714 non-null    int64   \n",
      " 75  percentage_discount      714 non-null    float64 \n",
      " 76  brand                    714 non-null    object  \n",
      " 77  model_name               714 non-null    object  \n",
      " 78  transformer              714 non-null    bool    \n",
      " 79  ru_keyboard              714 non-null    bool    \n",
      " 80  keyboard_backlight_type  411 non-null    object  \n",
      " 81  cpu_vendor               714 non-null    object  \n",
      " 82  discrete_gpu             714 non-null    bool    \n",
      " 83  gpu_vendor_disc          204 non-null    object  \n",
      " 84  card_slot_mmc_support    714 non-null    bool    \n",
      " 85  card_slot_type           393 non-null    object  \n",
      " 86  wifi                     714 non-null    object  \n",
      " 87  bluetooth                693 non-null    object  \n",
      " 88  cellular                 5 non-null      object  \n",
      " 89  ethernet_port_speed      298 non-null    float64 \n",
      "dtypes: bool(10), category(23), float64(23), int64(13), object(21)\n",
      "memory usage: 349.4+ KB\n"
     ]
    }
   ],
   "source": [
    "dns_laptop_df.info()"
   ]
  },
  {
   "cell_type": "code",
   "execution_count": 6,
   "metadata": {},
   "outputs": [
    {
     "data": {
      "text/html": [
       "<div>\n",
       "<style scoped>\n",
       "    .dataframe tbody tr th:only-of-type {\n",
       "        vertical-align: middle;\n",
       "    }\n",
       "\n",
       "    .dataframe tbody tr th {\n",
       "        vertical-align: top;\n",
       "    }\n",
       "\n",
       "    .dataframe thead th {\n",
       "        text-align: right;\n",
       "    }\n",
       "</style>\n",
       "<table border=\"1\" class=\"dataframe\">\n",
       "  <thead>\n",
       "    <tr style=\"text-align: right;\">\n",
       "      <th></th>\n",
       "      <th>rating</th>\n",
       "      <th>votes</th>\n",
       "      <th>service_rating</th>\n",
       "      <th>price</th>\n",
       "      <th>price_discount</th>\n",
       "      <th>warranty</th>\n",
       "      <th>release_year</th>\n",
       "      <th>screen_size</th>\n",
       "      <th>screen_frec</th>\n",
       "      <th>screen_bright</th>\n",
       "      <th>...</th>\n",
       "      <th>height</th>\n",
       "      <th>weight</th>\n",
       "      <th>ram_max_volume</th>\n",
       "      <th>adapter_output_power</th>\n",
       "      <th>gddr_volume</th>\n",
       "      <th>freq_with_acc</th>\n",
       "      <th>power_consumption_max</th>\n",
       "      <th>discount</th>\n",
       "      <th>percentage_discount</th>\n",
       "      <th>ethernet_port_speed</th>\n",
       "    </tr>\n",
       "  </thead>\n",
       "  <tbody>\n",
       "    <tr>\n",
       "      <th>count</th>\n",
       "      <td>714.000000</td>\n",
       "      <td>714.000000</td>\n",
       "      <td>714.000000</td>\n",
       "      <td>714.000000</td>\n",
       "      <td>714.000000</td>\n",
       "      <td>714.000000</td>\n",
       "      <td>714.000000</td>\n",
       "      <td>714.000000</td>\n",
       "      <td>708.000000</td>\n",
       "      <td>568.000000</td>\n",
       "      <td>...</td>\n",
       "      <td>714.000000</td>\n",
       "      <td>712.000000</td>\n",
       "      <td>671.000000</td>\n",
       "      <td>661.000000</td>\n",
       "      <td>200.000000</td>\n",
       "      <td>117.000000</td>\n",
       "      <td>122.000000</td>\n",
       "      <td>714.000000</td>\n",
       "      <td>714.000000</td>\n",
       "      <td>298.000000</td>\n",
       "    </tr>\n",
       "    <tr>\n",
       "      <th>mean</th>\n",
       "      <td>3.198880</td>\n",
       "      <td>22.170868</td>\n",
       "      <td>62.933431</td>\n",
       "      <td>78518.467787</td>\n",
       "      <td>75159.924370</td>\n",
       "      <td>9.159664</td>\n",
       "      <td>2018.415966</td>\n",
       "      <td>15.218207</td>\n",
       "      <td>83.584746</td>\n",
       "      <td>317.552817</td>\n",
       "      <td>...</td>\n",
       "      <td>19.701261</td>\n",
       "      <td>1.792396</td>\n",
       "      <td>23.087928</td>\n",
       "      <td>93.051437</td>\n",
       "      <td>5.180000</td>\n",
       "      <td>1458.021368</td>\n",
       "      <td>91.844262</td>\n",
       "      <td>3358.543417</td>\n",
       "      <td>3.668067</td>\n",
       "      <td>1.765101</td>\n",
       "    </tr>\n",
       "    <tr>\n",
       "      <th>std</th>\n",
       "      <td>2.090773</td>\n",
       "      <td>57.621597</td>\n",
       "      <td>47.816838</td>\n",
       "      <td>48145.490110</td>\n",
       "      <td>45361.065949</td>\n",
       "      <td>7.232446</td>\n",
       "      <td>75.646178</td>\n",
       "      <td>1.009383</td>\n",
       "      <td>47.219041</td>\n",
       "      <td>148.079406</td>\n",
       "      <td>...</td>\n",
       "      <td>3.411341</td>\n",
       "      <td>0.386370</td>\n",
       "      <td>19.139777</td>\n",
       "      <td>64.817182</td>\n",
       "      <td>2.339866</td>\n",
       "      <td>233.621363</td>\n",
       "      <td>32.948751</td>\n",
       "      <td>5804.709589</td>\n",
       "      <td>5.133332</td>\n",
       "      <td>8.097170</td>\n",
       "    </tr>\n",
       "    <tr>\n",
       "      <th>min</th>\n",
       "      <td>0.000000</td>\n",
       "      <td>0.000000</td>\n",
       "      <td>0.000000</td>\n",
       "      <td>14999.000000</td>\n",
       "      <td>14999.000000</td>\n",
       "      <td>0.000000</td>\n",
       "      <td>0.000000</td>\n",
       "      <td>13.300000</td>\n",
       "      <td>60.000000</td>\n",
       "      <td>180.000000</td>\n",
       "      <td>...</td>\n",
       "      <td>7.900000</td>\n",
       "      <td>0.780000</td>\n",
       "      <td>4.000000</td>\n",
       "      <td>25.000000</td>\n",
       "      <td>2.000000</td>\n",
       "      <td>712.000000</td>\n",
       "      <td>40.000000</td>\n",
       "      <td>0.000000</td>\n",
       "      <td>0.000000</td>\n",
       "      <td>1.000000</td>\n",
       "    </tr>\n",
       "    <tr>\n",
       "      <th>25%</th>\n",
       "      <td>0.000000</td>\n",
       "      <td>0.000000</td>\n",
       "      <td>0.000000</td>\n",
       "      <td>42999.000000</td>\n",
       "      <td>41999.000000</td>\n",
       "      <td>0.000000</td>\n",
       "      <td>2021.000000</td>\n",
       "      <td>14.000000</td>\n",
       "      <td>60.000000</td>\n",
       "      <td>250.000000</td>\n",
       "      <td>...</td>\n",
       "      <td>17.900000</td>\n",
       "      <td>1.497500</td>\n",
       "      <td>12.000000</td>\n",
       "      <td>45.000000</td>\n",
       "      <td>4.000000</td>\n",
       "      <td>1410.000000</td>\n",
       "      <td>60.000000</td>\n",
       "      <td>0.000000</td>\n",
       "      <td>0.000000</td>\n",
       "      <td>1.000000</td>\n",
       "    </tr>\n",
       "    <tr>\n",
       "      <th>50%</th>\n",
       "      <td>4.500000</td>\n",
       "      <td>4.000000</td>\n",
       "      <td>98.860000</td>\n",
       "      <td>64999.000000</td>\n",
       "      <td>62999.000000</td>\n",
       "      <td>12.000000</td>\n",
       "      <td>2021.000000</td>\n",
       "      <td>15.600000</td>\n",
       "      <td>60.000000</td>\n",
       "      <td>250.000000</td>\n",
       "      <td>...</td>\n",
       "      <td>19.900000</td>\n",
       "      <td>1.730000</td>\n",
       "      <td>16.000000</td>\n",
       "      <td>65.000000</td>\n",
       "      <td>4.000000</td>\n",
       "      <td>1500.000000</td>\n",
       "      <td>95.000000</td>\n",
       "      <td>0.000000</td>\n",
       "      <td>0.000000</td>\n",
       "      <td>1.000000</td>\n",
       "    </tr>\n",
       "    <tr>\n",
       "      <th>75%</th>\n",
       "      <td>4.500000</td>\n",
       "      <td>20.750000</td>\n",
       "      <td>99.825000</td>\n",
       "      <td>99999.000000</td>\n",
       "      <td>92599.000000</td>\n",
       "      <td>12.000000</td>\n",
       "      <td>2022.000000</td>\n",
       "      <td>15.600000</td>\n",
       "      <td>90.000000</td>\n",
       "      <td>312.500000</td>\n",
       "      <td>...</td>\n",
       "      <td>20.800000</td>\n",
       "      <td>1.940000</td>\n",
       "      <td>32.000000</td>\n",
       "      <td>120.000000</td>\n",
       "      <td>6.000000</td>\n",
       "      <td>1600.000000</td>\n",
       "      <td>112.500000</td>\n",
       "      <td>6300.000000</td>\n",
       "      <td>10.000000</td>\n",
       "      <td>1.000000</td>\n",
       "    </tr>\n",
       "    <tr>\n",
       "      <th>max</th>\n",
       "      <td>5.000000</td>\n",
       "      <td>703.000000</td>\n",
       "      <td>100.000000</td>\n",
       "      <td>359999.000000</td>\n",
       "      <td>305999.000000</td>\n",
       "      <td>36.000000</td>\n",
       "      <td>2022.000000</td>\n",
       "      <td>17.300000</td>\n",
       "      <td>360.000000</td>\n",
       "      <td>1000.000000</td>\n",
       "      <td>...</td>\n",
       "      <td>34.400000</td>\n",
       "      <td>3.300000</td>\n",
       "      <td>128.000000</td>\n",
       "      <td>330.000000</td>\n",
       "      <td>16.000000</td>\n",
       "      <td>1795.000000</td>\n",
       "      <td>175.000000</td>\n",
       "      <td>54000.000000</td>\n",
       "      <td>28.000000</td>\n",
       "      <td>100.000000</td>\n",
       "    </tr>\n",
       "  </tbody>\n",
       "</table>\n",
       "<p>8 rows × 36 columns</p>\n",
       "</div>"
      ],
      "text/plain": [
       "           rating       votes  service_rating          price  price_discount  \\\n",
       "count  714.000000  714.000000      714.000000     714.000000      714.000000   \n",
       "mean     3.198880   22.170868       62.933431   78518.467787    75159.924370   \n",
       "std      2.090773   57.621597       47.816838   48145.490110    45361.065949   \n",
       "min      0.000000    0.000000        0.000000   14999.000000    14999.000000   \n",
       "25%      0.000000    0.000000        0.000000   42999.000000    41999.000000   \n",
       "50%      4.500000    4.000000       98.860000   64999.000000    62999.000000   \n",
       "75%      4.500000   20.750000       99.825000   99999.000000    92599.000000   \n",
       "max      5.000000  703.000000      100.000000  359999.000000   305999.000000   \n",
       "\n",
       "         warranty  release_year  screen_size  screen_frec  screen_bright  ...  \\\n",
       "count  714.000000    714.000000   714.000000   708.000000     568.000000  ...   \n",
       "mean     9.159664   2018.415966    15.218207    83.584746     317.552817  ...   \n",
       "std      7.232446     75.646178     1.009383    47.219041     148.079406  ...   \n",
       "min      0.000000      0.000000    13.300000    60.000000     180.000000  ...   \n",
       "25%      0.000000   2021.000000    14.000000    60.000000     250.000000  ...   \n",
       "50%     12.000000   2021.000000    15.600000    60.000000     250.000000  ...   \n",
       "75%     12.000000   2022.000000    15.600000    90.000000     312.500000  ...   \n",
       "max     36.000000   2022.000000    17.300000   360.000000    1000.000000  ...   \n",
       "\n",
       "           height      weight  ram_max_volume  adapter_output_power  \\\n",
       "count  714.000000  712.000000      671.000000            661.000000   \n",
       "mean    19.701261    1.792396       23.087928             93.051437   \n",
       "std      3.411341    0.386370       19.139777             64.817182   \n",
       "min      7.900000    0.780000        4.000000             25.000000   \n",
       "25%     17.900000    1.497500       12.000000             45.000000   \n",
       "50%     19.900000    1.730000       16.000000             65.000000   \n",
       "75%     20.800000    1.940000       32.000000            120.000000   \n",
       "max     34.400000    3.300000      128.000000            330.000000   \n",
       "\n",
       "       gddr_volume  freq_with_acc  power_consumption_max      discount  \\\n",
       "count   200.000000     117.000000             122.000000    714.000000   \n",
       "mean      5.180000    1458.021368              91.844262   3358.543417   \n",
       "std       2.339866     233.621363              32.948751   5804.709589   \n",
       "min       2.000000     712.000000              40.000000      0.000000   \n",
       "25%       4.000000    1410.000000              60.000000      0.000000   \n",
       "50%       4.000000    1500.000000              95.000000      0.000000   \n",
       "75%       6.000000    1600.000000             112.500000   6300.000000   \n",
       "max      16.000000    1795.000000             175.000000  54000.000000   \n",
       "\n",
       "       percentage_discount  ethernet_port_speed  \n",
       "count           714.000000           298.000000  \n",
       "mean              3.668067             1.765101  \n",
       "std               5.133332             8.097170  \n",
       "min               0.000000             1.000000  \n",
       "25%               0.000000             1.000000  \n",
       "50%               0.000000             1.000000  \n",
       "75%              10.000000             1.000000  \n",
       "max              28.000000           100.000000  \n",
       "\n",
       "[8 rows x 36 columns]"
      ]
     },
     "execution_count": 6,
     "metadata": {},
     "output_type": "execute_result"
    }
   ],
   "source": [
    "dns_laptop_df.describe()"
   ]
  },
  {
   "cell_type": "markdown",
   "metadata": {},
   "source": [
    "## Корреляция числовых признаков"
   ]
  },
  {
   "cell_type": "code",
   "execution_count": 7,
   "metadata": {},
   "outputs": [
    {
     "data": {
      "text/plain": [
       "<AxesSubplot:>"
      ]
     },
     "execution_count": 7,
     "metadata": {},
     "output_type": "execute_result"
    },
    {
     "data": {
      "image/png": "[encoded data removed]",
      "text/plain": [
       "<Figure size 1080x864 with 2 Axes>"
      ]
     },
     "metadata": {
      "needs_background": "light"
     },
     "output_type": "display_data"
    }
   ],
   "source": [
    "dns_laptop_corr = dns_laptop_df.corr()\n",
    "plt.figure(figsize=(15, 12))\n",
    "sns.heatmap(dns_laptop_corr)"
   ]
  },
  {
   "cell_type": "markdown",
   "metadata": {},
   "source": [
    "Многие признаки коррелируют друг с другом. Помимо совсем очевидных зависимостей вроде размера экрана от физических размеров ноутбука, стоит отметить: \n",
    "- Зависимость выходной мощности адаптера питания (adapter_output_power) от веса (weight) и от игрового типа ноутбука (game_notebook).\n",
    "- Зависимость плотности пикселей (screen_ppi) от яркости экрана (screen_bright);"
   ]
  },
  {
   "cell_type": "markdown",
   "metadata": {},
   "source": [
    "Взглянем на топ 10 признаков, коррелирующих с ценой."
   ]
  },
  {
   "cell_type": "code",
   "execution_count": 8,
   "metadata": {},
   "outputs": [
    {
     "data": {
      "text/plain": [
       "price_discount         0.997616\n",
       "cpu_core               0.924475\n",
       "ssd_volume             0.921903\n",
       "ram_capacity           0.919120\n",
       "cpu_thread             0.848856\n",
       "cpu_core_effective     0.830031\n",
       "cpu_core_productive    0.828667\n",
       "ram_freq               0.807798\n",
       "webcam                 0.759878\n",
       "discount               0.752334\n",
       "Name: price, dtype: float64"
      ]
     },
     "execution_count": 8,
     "metadata": {},
     "output_type": "execute_result"
    }
   ],
   "source": [
    "dns_laptop_corr.corr().nlargest(11, 'price')['price'].iloc[1:]"
   ]
  },
  {
   "cell_type": "markdown",
   "metadata": {},
   "source": [
    "Больше всего на цену влияют количество ядер процессора, объем SSD-накопителя и объем памяти."
   ]
  },
  {
   "cell_type": "markdown",
   "metadata": {},
   "source": [
    "Взглянем на топ 10 признаков, коррелирующих с рейтингом."
   ]
  },
  {
   "cell_type": "code",
   "execution_count": 9,
   "metadata": {},
   "outputs": [
    {
     "data": {
      "text/plain": [
       "service_rating           0.812980\n",
       "votes                    0.479578\n",
       "card_slot_mmc_support    0.212913\n",
       "percentage_discount      0.182823\n",
       "acc_time                 0.123537\n",
       "emmc_volume              0.087687\n",
       "ethernet_port_speed      0.078113\n",
       "discount                 0.076822\n",
       "hdd_volume               0.072702\n",
       "mech_keyboard            0.022114\n",
       "Name: rating, dtype: float64"
      ]
     },
     "execution_count": 9,
     "metadata": {},
     "output_type": "execute_result"
    }
   ],
   "source": [
    "dns_laptop_corr.corr().nlargest(11, 'rating')['rating'].iloc[1:]"
   ]
  },
  {
   "cell_type": "markdown",
   "metadata": {},
   "source": [
    "Больше всего на рейтинг влияет оценка надежности ноутбука, при этом остальные признаки уже слабо коррелируют с ним."
   ]
  },
  {
   "cell_type": "markdown",
   "metadata": {},
   "source": [
    "## Пропущенные значения"
   ]
  },
  {
   "cell_type": "code",
   "execution_count": 10,
   "metadata": {},
   "outputs": [
    {
     "data": {
      "text/plain": [
       "<AxesSubplot:>"
      ]
     },
     "execution_count": 10,
     "metadata": {},
     "output_type": "execute_result"
    },
    {
     "data": {
      "image/png": "[encoded data removed]",
      "text/plain": [
       "<Figure size 864x576 with 1 Axes>"
      ]
     },
     "metadata": {
      "needs_background": "light"
     },
     "output_type": "display_data"
    }
   ],
   "source": [
    "fig = plt.figure(figsize=(12,8))\n",
    "sns.heatmap(dns_laptop_df.isnull(), yticklabels=False, cbar=False, cmap='viridis')"
   ]
  },
  {
   "cell_type": "markdown",
   "metadata": {},
   "source": [
    "В model_id также есть пробелы. Для идентификации ноутбука в таких случаях можно использовать комбинацию марки (brand) и модели (model)."
   ]
  },
  {
   "cell_type": "markdown",
   "metadata": {},
   "source": [
    "## Зависимость рейтинга от оценки надежности ноутбука"
   ]
  },
  {
   "cell_type": "code",
   "execution_count": 11,
   "metadata": {},
   "outputs": [
    {
     "data": {
      "text/plain": [
       "<AxesSubplot:xlabel='service_rating', ylabel='rating'>"
      ]
     },
     "execution_count": 11,
     "metadata": {},
     "output_type": "execute_result"
    },
    {
     "data": {
      "image/png": "[encoded data removed]",
      "text/plain": [
       "<Figure size 720x432 with 1 Axes>"
      ]
     },
     "metadata": {
      "needs_background": "light"
     },
     "output_type": "display_data"
    }
   ],
   "source": [
    "fig = plt.figure(figsize=(10,6))\n",
    "sns.set_style('whitegrid')\n",
    "sns.scatterplot(x='service_rating', y='rating', hue='votes', data=dns_laptop_df[dns_laptop_df.service_rating > 0], palette='RdBu_r')"
   ]
  },
  {
   "cell_type": "markdown",
   "metadata": {},
   "source": [
    "Из диаграммы видно, что существует явная зависимость рейтинга от оценки надежности. Если бы рейтинг был бы более детализирован, то диаграмма отображала эту зависимость бы более наглядно."
   ]
  },
  {
   "cell_type": "markdown",
   "metadata": {},
   "source": [
    "## Зависимость между наличием wifi и типом bluetooth-соединения"
   ]
  },
  {
   "cell_type": "code",
   "execution_count": 12,
   "metadata": {},
   "outputs": [
    {
     "data": {
      "text/plain": [
       "<AxesSubplot:xlabel='wifi', ylabel='count'>"
      ]
     },
     "execution_count": 12,
     "metadata": {},
     "output_type": "execute_result"
    },
    {
     "data": {
      "image/png": "[encoded data removed]",
      "text/plain": [
       "<Figure size 720x432 with 1 Axes>"
      ]
     },
     "metadata": {},
     "output_type": "display_data"
    }
   ],
   "source": [
    "fig = plt.figure(figsize=(10,6))\n",
    "sns.set_style('whitegrid')\n",
    "sns.countplot(hue='bluetooth', x='wifi', data=dns_laptop_df, palette='RdBu_r')"
   ]
  },
  {
   "cell_type": "markdown",
   "metadata": {},
   "source": [
    "Можно сделать вывод, что вместе с новыми wi-fi модулями пользователь получает новые bluetooth-модули. Возможно, что они являются частью одной платы, которая выполняет сразу несколько функций."
   ]
  },
  {
   "cell_type": "markdown",
   "metadata": {},
   "source": [
    "## Рейтинг ноутбуков с точки зрения пользователей"
   ]
  },
  {
   "cell_type": "code",
   "execution_count": 13,
   "metadata": {},
   "outputs": [
    {
     "data": {
      "text/plain": [
       "<AxesSubplot:title={'center':'Рейтинг ноутбуков с точки зрения пользователей'}, xlabel='rating', ylabel='Count'>"
      ]
     },
     "execution_count": 13,
     "metadata": {},
     "output_type": "execute_result"
    },
    {
     "data": {
      "image/png": "[encoded data removed]",
      "text/plain": [
       "<Figure size 864x432 with 1 Axes>"
      ]
     },
     "metadata": {},
     "output_type": "display_data"
    }
   ],
   "source": [
    "fig = plt.figure(figsize=(12,6))\n",
    "sns.set_style('whitegrid')\n",
    "plt.title('Рейтинг ноутбуков с точки зрения пользователей')\n",
    "sns.histplot(data=dns_laptop_df, x=\"rating\", palette='RdBu_r',bins=15)"
   ]
  },
  {
   "cell_type": "markdown",
   "metadata": {},
   "source": [
    "## Распределение рейтинга и голосов"
   ]
  },
  {
   "cell_type": "code",
   "execution_count": 14,
   "metadata": {},
   "outputs": [
    {
     "data": {
      "text/plain": [
       "<AxesSubplot:xlabel='rating', ylabel='votes'>"
      ]
     },
     "execution_count": 14,
     "metadata": {},
     "output_type": "execute_result"
    },
    {
     "data": {
      "image/png": "[encoded data removed]",
      "text/plain": [
       "<Figure size 864x576 with 1 Axes>"
      ]
     },
     "metadata": {},
     "output_type": "display_data"
    }
   ],
   "source": [
    "fig = plt.figure(figsize=(12,8))\n",
    "sns.boxplot(x=\"rating\", y=\"votes\", data=dns_laptop_df)"
   ]
  },
  {
   "cell_type": "markdown",
   "metadata": {},
   "source": [
    "Ноутбуков с хорошим рейтингом больше, чем с плохим. Обращает на себя внимание крайне малое количество средних оценок, то есть мненния пользователей полярные - они либо довольны своей покупкой, либо нет. "
   ]
  },
  {
   "cell_type": "markdown",
   "metadata": {},
   "source": [
    "## Зависимость скидки и цены"
   ]
  },
  {
   "cell_type": "code",
   "execution_count": 15,
   "metadata": {},
   "outputs": [
    {
     "data": {
      "text/plain": [
       "<AxesSubplot:xlabel='price', ylabel='discount'>"
      ]
     },
     "execution_count": 15,
     "metadata": {},
     "output_type": "execute_result"
    },
    {
     "data": {
      "image/png": "[encoded data removed]",
      "text/plain": [
       "<Figure size 864x576 with 1 Axes>"
      ]
     },
     "metadata": {},
     "output_type": "display_data"
    }
   ],
   "source": [
    "fig = plt.figure(figsize=(12,8))\n",
    "sns.scatterplot(data=dns_laptop_df, y=\"discount\", x=\"price\", size=\"discount\")"
   ]
  },
  {
   "cell_type": "markdown",
   "metadata": {},
   "source": [
    "## Зависимость рейтинга от скидки в процентном соотношении от стоимости ноутбука."
   ]
  },
  {
   "cell_type": "code",
   "execution_count": 16,
   "metadata": {},
   "outputs": [
    {
     "data": {
      "text/plain": [
       "<AxesSubplot:xlabel='rating', ylabel='percentage_discount'>"
      ]
     },
     "execution_count": 16,
     "metadata": {},
     "output_type": "execute_result"
    },
    {
     "data": {
      "image/png": "[encoded data removed]",
      "text/plain": [
       "<Figure size 864x576 with 1 Axes>"
      ]
     },
     "metadata": {},
     "output_type": "display_data"
    }
   ],
   "source": [
    "fig = plt.figure(figsize=(12,8))\n",
    "sns.boxplot(y=\"percentage_discount\", x=\"rating\", data=dns_laptop_df)"
   ]
  },
  {
   "cell_type": "markdown",
   "metadata": {},
   "source": [
    "Какой-либо явной зависимости между долей скидки в стоимости ноутбука и его оценкой пользователями не наблюдается. "
   ]
  },
  {
   "cell_type": "markdown",
   "metadata": {},
   "source": [
    "## Годы выпуска ноутбуков"
   ]
  },
  {
   "cell_type": "code",
   "execution_count": 17,
   "metadata": {},
   "outputs": [
    {
     "data": {
      "text/plain": [
       "<AxesSubplot:xlabel='release_year', ylabel='count'>"
      ]
     },
     "execution_count": 17,
     "metadata": {},
     "output_type": "execute_result"
    },
    {
     "data": {
      "image/png": "[encoded data removed]",
      "text/plain": [
       "<Figure size 720x432 with 1 Axes>"
      ]
     },
     "metadata": {},
     "output_type": "display_data"
    }
   ],
   "source": [
    "fig = plt.figure(figsize=(10,6))\n",
    "sns.set_style('whitegrid')\n",
    "sns.countplot(x='release_year', data=dns_laptop_df, palette='RdBu_r')"
   ]
  },
  {
   "cell_type": "markdown",
   "metadata": {},
   "source": [
    "Подавляющее большинство ноутбуков, продающихся на сайте, новые - 2022 или 2021 годов выпуска. "
   ]
  },
  {
   "cell_type": "markdown",
   "metadata": {},
   "source": [
    "## Операционные системы"
   ]
  },
  {
   "cell_type": "code",
   "execution_count": 18,
   "metadata": {},
   "outputs": [
    {
     "data": {
      "text/plain": [
       "<AxesSubplot:xlabel='count', ylabel='operating_system'>"
      ]
     },
     "execution_count": 18,
     "metadata": {},
     "output_type": "execute_result"
    },
    {
     "data": {
      "image/png": "[encoded data removed]",
      "text/plain": [
       "<Figure size 1008x576 with 1 Axes>"
      ]
     },
     "metadata": {},
     "output_type": "display_data"
    }
   ],
   "source": [
    "fig = plt.figure(figsize=(14,8))\n",
    "sns.set_style('whitegrid')\n",
    "sns.countplot(y='operating_system', hue ='type', data=dns_laptop_df, palette='RdBu_r')"
   ]
  },
  {
   "cell_type": "markdown",
   "metadata": {},
   "source": [
    "Большая часть ноутбуков продается с различными версиями операционной системы Windows, MacOs и Linux не в состоянии составить конкуренцию. (Очевидно, ноутбуки Apple чаще покупают у официального дистрибьютора, а не в онлайн магазине). Удивляет довольно большое количество ноутбуков, кубпленных без ОС. Весьма вероятно, что это любители Linux, поскольку это свободно распространяемое ПО и его можно установить на ноутбук с нуля без дополнительных лицензий."
   ]
  },
  {
   "cell_type": "markdown",
   "metadata": {},
   "source": [
    "## Брэнды"
   ]
  },
  {
   "cell_type": "code",
   "execution_count": 19,
   "metadata": {},
   "outputs": [
    {
     "data": {
      "text/plain": [
       "<AxesSubplot:xlabel='count', ylabel='brand'>"
      ]
     },
     "execution_count": 19,
     "metadata": {},
     "output_type": "execute_result"
    },
    {
     "data": {
      "image/png": "[encoded data removed]",
      "text/plain": [
       "<Figure size 1008x576 with 1 Axes>"
      ]
     },
     "metadata": {},
     "output_type": "display_data"
    }
   ],
   "source": [
    "fig = plt.figure(figsize=(14,8))\n",
    "sns.set_style('whitegrid')\n",
    "sns.countplot(y='brand',data=dns_laptop_df, palette='RdBu_r')"
   ]
  },
  {
   "cell_type": "markdown",
   "metadata": {},
   "source": [
    "Больше всего сайт продает ноутбуков Lenovo, Asus и Acer."
   ]
  },
  {
   "cell_type": "markdown",
   "metadata": {},
   "source": [
    "## Рейтинг ноутбуков Apple и ноутбуков с Windows"
   ]
  },
  {
   "cell_type": "code",
   "execution_count": 20,
   "metadata": {},
   "outputs": [
    {
     "data": {
      "text/plain": [
       "<AxesSubplot:title={'center':'Рейтинг ноутбуков Apple'}, ylabel='Frequency'>"
      ]
     },
     "execution_count": 20,
     "metadata": {},
     "output_type": "execute_result"
    },
    {
     "data": {
      "image/png": "[encoded data removed]",
      "text/plain": [
       "<Figure size 864x432 with 1 Axes>"
      ]
     },
     "metadata": {},
     "output_type": "display_data"
    }
   ],
   "source": [
    "fig = plt.figure(figsize=(12,6))\n",
    "sns.set_style('whitegrid')\n",
    "plt.title('Рейтинг ноутбуков Apple')\n",
    "dns_laptop_df[dns_laptop_df['operating_system'] == 'macOS']['rating'].plot.hist(bins=15)"
   ]
  },
  {
   "cell_type": "code",
   "execution_count": 21,
   "metadata": {},
   "outputs": [
    {
     "data": {
      "text/plain": [
       "<AxesSubplot:title={'center':'Рейтинг ноутбуков Windows'}, ylabel='Frequency'>"
      ]
     },
     "execution_count": 21,
     "metadata": {},
     "output_type": "execute_result"
    },
    {
     "data": {
      "image/png": "[encoded data removed]",
      "text/plain": [
       "<Figure size 864x432 with 1 Axes>"
      ]
     },
     "metadata": {},
     "output_type": "display_data"
    }
   ],
   "source": [
    "fig = plt.figure(figsize=(12,6))\n",
    "sns.set_style('whitegrid')\n",
    "plt.title('Рейтинг ноутбуков Windows')\n",
    "dns_laptop_df[\n",
    "    (dns_laptop_df['operating_system'] != 'macOS') & \n",
    "    (dns_laptop_df['operating_system'] != 'Linux') & \n",
    "    (dns_laptop_df['operating_system'] != 'без ОС')\n",
    "]['rating'].plot.hist(bins=15)"
   ]
  },
  {
   "cell_type": "markdown",
   "metadata": {},
   "source": [
    "У ноутбуков с Windows также выше разброс оценок. Пользователи Apple практически единодушны в своих оценках. "
   ]
  },
  {
   "cell_type": "markdown",
   "metadata": {},
   "source": [
    "## Зависимость рейтинга от цены и количества проголосовавших"
   ]
  },
  {
   "cell_type": "code",
   "execution_count": 22,
   "metadata": {},
   "outputs": [
    {
     "data": {
      "text/html": [
       "        <script type=\"text/javascript\">\n",
       "        window.PlotlyConfig = {MathJaxConfig: 'local'};\n",
       "        if (window.MathJax) {MathJax.Hub.Config({SVG: {font: \"STIX-Web\"}});}\n",
       "        if (typeof require !== 'undefined') {\n",
       "        require.undef(\"plotly\");\n",
       "        requirejs.config({\n",
       "            paths: {\n",
       "                'plotly': ['https://cdn.plot.ly/plotly-2.9.0.min']\n",
       "            }\n",
       "        });\n",
       "        require(['plotly'], function(Plotly) {\n",
       "            window._Plotly = Plotly;\n",
       "        });\n",
       "        }\n",
       "        </script>\n",
       "        "
      ]
     },
     "metadata": {},
     "output_type": "display_data"
    }
   ],
   "source": [
    "cf.go_offline()"
   ]
  },
  {
   "cell_type": "code",
   "execution_count": 23,
   "metadata": {},
   "outputs": [
    {
     "data": {
      "application/vnd.plotly.v1+json": {
       "config": {
        "linkText": "Export to plot.ly",
        "plotlyServerURL": "https://plot.ly",
        "showLink": true
       },
       "data": [
        {
         "colorscale": [
          [
           0,
           "rgb(165,0,38)"
          ],
          [
           0.1,
           "rgb(215,48,39)"
          ],
          [
           0.2,
           "rgb(244,109,67)"
          ],
          [
           0.3,
           "rgb(253,174,97)"
          ],
          [
           0.4,
           "rgb(254,224,144)"
          ],
          [
           0.5,
           "rgb(255,255,191)"
          ],
          [
           0.6,
           "rgb(224,243,248)"
          ],
          [
           0.7,
           "rgb(171,217,233)"
          ],
          [
           0.8,
           "rgb(116,173,209)"
          ],
          [
           0.9,
           "rgb(69,117,180)"
          ],
          [
           1,
           "rgb(49,54,149)"
          ]
         ],
         "type": "surface",
         "x": [
          0,
          1,
          2,
          3,
          4,
          5,
          6,
          7,
          8,
          9,
          10,
          11,
          12,
          13,
          14,
          15,
          16,
          17,
          18,
          19,
          20,
          21,
          22,
          23,
          24,
          25,
          26,
          27,
          28,
          29,
          30,
          31,
          32,
          33,
          34,
          35,
          36,
          37,
          38,
          39,
          40,
          41,
          42,
          43,
          44,
          45,
          46,
          47,
          48,
          49,
          50,
          51,
          52,
          53,
          54,
          55,
          56,
          57,
          58,
          59,
          60,
          61,
          62,
          63,
          64,
          65,
          66,
          67,
          68,
          69,
          70,
          71,
          72,
          73,
          74,
          75,
          76,
          77,
          78,
          79,
          80,
          81,
          82,
          83,
          84,
          85,
          86,
          87,
          88,
          89,
          90,
          91,
          92,
          93,
          94,
          95,
          96,
          97,
          98,
          99,
          100,
          101,
          102,
          103,
          104,
          105,
          106,
          107,
          108,
          109,
          110,
          111,
          112,
          113,
          114,
          115,
          116,
          117,
          118,
          119,
          120,
          121,
          122,
          123,
          124,
          125,
          126,
          127,
          128,
          129,
          130,
          131,
          132,
          133,
          134,
          135,
          136,
          137,
          138,
          139,
          140,
          141,
          142,
          143,
          144,
          145,
          146,
          147,
          148,
          149,
          150,
          151,
          152,
          153,
          154,
          155,
          156,
          157,
          158,
          159,
          160,
          161,
          162,
          163,
          164,
          165,
          166,
          167,
          168,
          169,
          170,
          171,
          172,
          173,
          174,
          175,
          176,
          177,
          178,
          179,
          180,
          181,
          182,
          183,
          184,
          185,
          186,
          187,
          188,
          189,
          190,
          191,
          192,
          193,
          194,
          195,
          196,
          197,
          198,
          199,
          200,
          201,
          202,
          203,
          204,
          205,
          206,
          207,
          208,
          209,
          210,
          211,
          212,
          213,
          214,
          215,
          216,
          217,
          218,
          219,
          220,
          221,
          222,
          223,
          224,
          225,
          226,
          227,
          228,
          229,
          230,
          231,
          232,
          233,
          234,
          235,
          236,
          237,
          238,
          239,
          240,
          241,
          242,
          243,
          244,
          245,
          246,
          247,
          248,
          249,
          250,
          251,
          252,
          253,
          254,
          255,
          256,
          257,
          258,
          259,
          260,
          261,
          262,
          263,
          264,
          265,
          266,
          267,
          268,
          269,
          270,
          271,
          272,
          273,
          274,
          275,
          276,
          277,
          278,
          279,
          280,
          281,
          282,
          283,
          284,
          285,
          286,
          287,
          288,
          289,
          290,
          291,
          292,
          293,
          294,
          295,
          296,
          297,
          298,
          299,
          300,
          301,
          302,
          303,
          304,
          305,
          306,
          307,
          308,
          309,
          310,
          311,
          312,
          313,
          314,
          315,
          316,
          317,
          318,
          319,
          320,
          321,
          322,
          323,
          324,
          325,
          326,
          327,
          328,
          329,
          330,
          331,
          332,
          333,
          334,
          335,
          336,
          337,
          338,
          339,
          340,
          341,
          342,
          343,
          344,
          345,
          346,
          347,
          348,
          349,
          350,
          351,
          352,
          353,
          354,
          355,
          356,
          357,
          358,
          359,
          360,
          361,
          362,
          363,
          364,
          365,
          366,
          367,
          368,
          369,
          370,
          371,
          372,
          373,
          374,
          375,
          376,
          377,
          378,
          379,
          380,
          381,
          382,
          383,
          384,
          385,
          386,
          387,
          388,
          389,
          390,
          391,
          392,
          393,
          394,
          395,
          396,
          397,
          398,
          399,
          400,
          401,
          402,
          403,
          404,
          405,
          406,
          407,
          408,
          409,
          410,
          411,
          412,
          413,
          414,
          415,
          416,
          417,
          418,
          419,
          420,
          421,
          422,
          423,
          424,
          425,
          426,
          427,
          428,
          429,
          430,
          431,
          432,
          433,
          434,
          435,
          436,
          437,
          438,
          439,
          440,
          441,
          442,
          443,
          444,
          445,
          446,
          447,
          448,
          449,
          450,
          451,
          452,
          453,
          454,
          455,
          456,
          457,
          458,
          459,
          460,
          461,
          462,
          463,
          464,
          465,
          466,
          467,
          468,
          469,
          470,
          471,
          472,
          473,
          474,
          475,
          476,
          477,
          478,
          479,
          480,
          481,
          482,
          483,
          484,
          485,
          486,
          487,
          488,
          489,
          490,
          491,
          492,
          493,
          494,
          495,
          496,
          497,
          498,
          499,
          500,
          501,
          502,
          503,
          504,
          505,
          506,
          507,
          508,
          509,
          510,
          511,
          512,
          513,
          514,
          515,
          516,
          517,
          518,
          519,
          520,
          521,
          522,
          523,
          524,
          525,
          526,
          527,
          528,
          529,
          530,
          531,
          532,
          533,
          534,
          535,
          536,
          537,
          538,
          539,
          540,
          541,
          542,
          543,
          544,
          545,
          546,
          547,
          548,
          549,
          550,
          551,
          552,
          553,
          554,
          555,
          556,
          557,
          558,
          559,
          560,
          561,
          562,
          563,
          564,
          565,
          566,
          567,
          568,
          569,
          570,
          571,
          572,
          573,
          574,
          575,
          576,
          577,
          578,
          579,
          580,
          581,
          582,
          583,
          584,
          585,
          586,
          587,
          588,
          589,
          590,
          591,
          592,
          593,
          594,
          595,
          596,
          597,
          598,
          599,
          600,
          601,
          602,
          603,
          604,
          605,
          606,
          607,
          608,
          609,
          610,
          611,
          612,
          613,
          614,
          615,
          616,
          617,
          618,
          619,
          620,
          621,
          622,
          623,
          624,
          625,
          626,
          627,
          628,
          629,
          630,
          631,
          632,
          633,
          634,
          635,
          636,
          637,
          638,
          639,
          640,
          641,
          642,
          643,
          644,
          645,
          646,
          647,
          648,
          649,
          650,
          651,
          652,
          653,
          654,
          655,
          656,
          657,
          658,
          659,
          660,
          661,
          662,
          663,
          664,
          665,
          666,
          667,
          668,
          669,
          670,
          671,
          672,
          673,
          674,
          675,
          676,
          677,
          678,
          679,
          680,
          681,
          682,
          683,
          684,
          685,
          686,
          687,
          688,
          689,
          690,
          691,
          692,
          693,
          694,
          695,
          696,
          697,
          698,
          699,
          700,
          701,
          702,
          703,
          704,
          705,
          706,
          707,
          708,
          709,
          710,
          711,
          712,
          713
         ],
         "y": [
          "rating",
          "price",
          "votes"
         ],
         "z": [
          [
           3.5,
           4.5,
           4,
           2.5,
           0,
           3.5,
           4,
           3.5,
           3.5,
           4.5,
           4.5,
           5,
           4.5,
           5,
           4.5,
           4.5,
           0,
           0,
           4.5,
           4.5,
           5,
           4.5,
           4.5,
           5,
           4.5,
           5,
           4.5,
           0,
           4.5,
           0,
           4,
           4.5,
           0,
           4.5,
           4.5,
           5,
           4.5,
           5,
           5,
           4.5,
           5,
           3,
           4.5,
           5,
           4.5,
           4.5,
           3.5,
           4.5,
           4.5,
           4.5,
           4.5,
           5,
           4.5,
           3.5,
           4.5,
           4,
           4.5,
           4,
           3.5,
           4.5,
           4.5,
           5,
           4,
           4.5,
           4.5,
           0,
           4.5,
           0,
           4.5,
           5,
           4.5,
           4,
           4.5,
           4.5,
           4.5,
           4.5,
           3.5,
           4.5,
           4,
           4.5,
           4.5,
           4.5,
           4,
           4.5,
           4,
           4.5,
           0,
           4.5,
           5,
           5,
           5,
           4.5,
           4.5,
           4,
           4.5,
           4.5,
           4.5,
           4,
           4.5,
           4,
           3.5,
           3.5,
           4.5,
           4,
           0,
           4.5,
           4.5,
           4.5,
           5,
           4.5,
           4.5,
           4.5,
           4,
           0,
           4.5,
           5,
           5,
           4.5,
           5,
           5,
           5,
           2,
           0,
           4.5,
           4.5,
           4.5,
           4.5,
           4,
           4.5,
           4,
           5,
           4.5,
           4,
           4.5,
           4.5,
           4.5,
           4.5,
           5,
           5,
           5,
           4.5,
           5,
           4.5,
           4.5,
           4.5,
           4.5,
           4.5,
           5,
           4.5,
           1.5,
           5,
           5,
           0,
           4.5,
           4.5,
           4.5,
           4.5,
           4.5,
           0,
           4,
           5,
           5,
           4.5,
           4,
           5,
           5,
           0,
           0,
           4,
           4.5,
           5,
           4.5,
           5,
           4.5,
           5,
           1,
           4.5,
           4,
           5,
           4.5,
           0,
           4.5,
           4.5,
           3.5,
           4.5,
           0,
           4.5,
           4.5,
           4.5,
           4.5,
           0,
           0,
           0,
           5,
           5,
           5,
           4,
           4.5,
           4,
           5,
           5,
           4.5,
           4,
           4.5,
           4.5,
           3.5,
           4.5,
           4,
           0,
           4.5,
           4.5,
           0,
           0,
           0,
           0,
           0,
           0,
           5,
           4.5,
           4,
           0,
           4.5,
           4.5,
           4,
           0,
           4.5,
           4.5,
           4.5,
           0,
           3.5,
           4.5,
           4.5,
           4.5,
           4.5,
           0,
           5,
           4,
           0,
           0,
           4.5,
           4.5,
           0,
           4.5,
           0,
           0,
           5,
           0,
           4,
           0,
           0,
           4.5,
           4.5,
           4.5,
           0,
           5,
           4.5,
           4.5,
           4.5,
           4.5,
           4.5,
           0,
           5,
           0,
           4.5,
           5,
           0,
           5,
           4.5,
           0,
           5,
           4.5,
           0,
           4.5,
           4.5,
           4.5,
           3,
           4.5,
           4,
           4.5,
           0,
           4.5,
           0,
           5,
           0,
           4.5,
           4.5,
           0,
           4.5,
           0,
           4.5,
           0,
           4,
           0,
           4.5,
           0,
           0,
           4.5,
           5,
           0,
           5,
           0,
           0,
           0,
           4.5,
           3,
           4,
           4.5,
           4.5,
           0,
           4.5,
           5,
           5,
           0,
           4.5,
           4.5,
           4.5,
           0,
           0,
           4.5,
           0,
           4.5,
           4,
           4.5,
           4.5,
           0,
           0,
           0,
           0,
           4.5,
           5,
           5,
           0,
           4.5,
           4.5,
           5,
           0,
           0,
           0,
           5,
           4.5,
           4.5,
           0,
           5,
           5,
           4.5,
           5,
           5,
           3.5,
           0,
           0,
           0,
           0,
           0,
           5,
           0,
           0,
           4,
           0,
           0,
           0,
           0,
           0,
           0,
           0,
           0,
           4.5,
           4.5,
           5,
           0,
           4.5,
           0,
           5,
           4,
           4,
           4.5,
           5,
           4.5,
           5,
           5,
           4.5,
           0,
           0,
           0,
           5,
           0,
           4.5,
           4.5,
           4.5,
           4.5,
           3,
           4.5,
           0,
           4.5,
           0,
           5,
           5,
           5,
           5,
           4.5,
           5,
           4.5,
           0,
           0,
           0,
           0,
           0,
           4.5,
           0,
           5,
           4.5,
           0,
           5,
           4,
           5,
           0,
           4.5,
           5,
           5,
           4.5,
           0,
           4.5,
           0,
           4.5,
           5,
           5,
           0,
           4.5,
           4.5,
           4,
           0,
           5,
           0,
           4.5,
           4.5,
           5,
           0,
           0,
           4,
           3.5,
           0,
           0,
           0,
           4.5,
           4.5,
           4.5,
           4.5,
           4,
           4.5,
           5,
           0,
           0,
           5,
           5,
           0,
           0,
           4.5,
           0,
           5,
           5,
           3.5,
           3.5,
           5,
           4.5,
           4.5,
           4.5,
           4.5,
           4.5,
           4.5,
           5,
           5,
           4.5,
           0,
           0,
           0,
           5,
           0,
           0,
           0,
           4.5,
           4.5,
           4,
           0,
           0,
           0,
           0,
           4.5,
           5,
           0,
           4.5,
           3,
           4.5,
           0,
           5,
           5,
           0,
           0,
           0,
           5,
           5,
           4.5,
           5,
           0,
           0,
           0,
           5,
           5,
           0,
           5,
           0,
           0,
           0,
           5,
           0,
           0,
           4.5,
           0,
           5,
           4,
           0,
           5,
           5,
           0,
           5,
           0,
           5,
           4.5,
           0,
           0,
           4.5,
           4,
           4.5,
           5,
           4.5,
           0,
           0,
           5,
           0,
           5,
           4.5,
           5,
           5,
           4.5,
           5,
           0,
           4.5,
           4.5,
           4.5,
           5,
           3.5,
           4,
           4.5,
           5,
           0,
           0,
           4.5,
           0,
           0,
           5,
           4,
           4.5,
           5,
           4.5,
           4.5,
           4.5,
           4.5,
           0,
           4.5,
           0,
           0,
           5,
           5,
           4.5,
           4.5,
           4.5,
           4.5,
           4.5,
           5,
           5,
           5,
           4.5,
           3,
           0,
           4.5,
           5,
           4.5,
           0,
           4.5,
           0,
           0,
           4.5,
           5,
           5,
           5,
           4,
           5,
           4,
           0,
           0,
           0,
           4,
           0,
           0,
           0,
           5,
           5,
           5,
           4.5,
           5,
           5,
           0,
           0,
           4.5,
           4.5,
           0,
           0,
           0,
           5,
           0,
           5,
           0,
           3,
           0,
           0,
           0,
           4,
           1,
           0,
           0,
           0,
           0,
           4.5,
           5,
           0,
           0,
           4.5,
           4.5,
           4.5,
           4.5,
           4.5,
           5,
           4.5,
           4.5,
           4.5,
           4.5,
           4.5,
           5,
           5,
           0,
           0,
           0,
           4.5,
           0,
           4.5,
           4.5,
           5,
           0,
           4,
           0,
           4,
           3,
           3.5,
           4.5,
           5,
           0,
           4.5,
           4.5,
           4.5,
           0,
           4.5,
           4.5,
           0,
           5,
           4.5,
           4.5,
           5,
           4.5,
           4.5,
           4,
           4.5,
           4.5,
           0,
           4.5,
           5,
           4.5,
           0,
           4,
           0,
           5,
           0,
           5,
           5,
           5,
           4.5,
           0,
           4.5,
           5,
           0,
           4.5,
           4.5,
           4.5,
           4.5,
           3.5,
           5,
           5,
           0,
           0,
           4,
           0,
           0,
           4.5,
           5,
           0,
           0,
           4.5
          ],
          [
           14999,
           15999,
           15999,
           17999,
           19199,
           19999,
           19999,
           19999,
           19999,
           27999,
           25999,
           26999,
           29999,
           29999,
           29999,
           29999,
           27199,
           30999,
           27999,
           27999,
           27999,
           27999,
           27999,
           27999,
           27999,
           27999,
           27999,
           28999,
           28999,
           32999,
           32999,
           32999,
           32999,
           32999,
           32999,
           32999,
           32999,
           32999,
           32999,
           32999,
           32999,
           32999,
           32999,
           29999,
           29999,
           29999,
           29999,
           29999,
           29999,
           29999,
           29999,
           29999,
           29999,
           29999,
           29999,
           34999,
           34999,
           31999,
           31999,
           34999,
           32999,
           32999,
           32999,
           32999,
           32999,
           32999,
           32999,
           32999,
           32999,
           32999,
           32999,
           32999,
           32999,
           32999,
           32999,
           32999,
           32999,
           32999,
           32999,
           32999,
           32999,
           32999,
           32999,
           32999,
           32999,
           38999,
           36999,
           36999,
           39999,
           33999,
           33999,
           36999,
           37999,
           34499,
           34999,
           34999,
           34999,
           34999,
           34999,
           34999,
           39999,
           39999,
           34999,
           34999,
           34999,
           34999,
           41999,
           41999,
           35999,
           35999,
           42999,
           39999,
           36999,
           36999,
           36999,
           36999,
           36999,
           39999,
           39999,
           40999,
           39999,
           36999,
           36999,
           36999,
           37999,
           37999,
           37999,
           37999,
           37999,
           37999,
           37999,
           37999,
           37999,
           37999,
           37999,
           37999,
           37999,
           37999,
           37999,
           37999,
           37999,
           37999,
           37999,
           37999,
           44999,
           41999,
           42999,
           38999,
           42999,
           38999,
           43999,
           39999,
           39999,
           44999,
           39999,
           39999,
           39999,
           44999,
           39999,
           44999,
           39999,
           39999,
           39999,
           39999,
           39999,
           39999,
           39999,
           39999,
           39999,
           39999,
           44999,
           44999,
           47999,
           47999,
           48999,
           41999,
           41999,
           41999,
           46999,
           41999,
           41999,
           41999,
           41999,
           41999,
           41999,
           41999,
           46999,
           49999,
           42999,
           42999,
           42999,
           42999,
           42999,
           42999,
           42999,
           42999,
           42999,
           42999,
           42999,
           42999,
           42999,
           42999,
           42999,
           42999,
           42999,
           42999,
           49999,
           47999,
           43999,
           43999,
           43999,
           48999,
           44799,
           44999,
           44999,
           49999,
           49999,
           44999,
           44999,
           44999,
           44999,
           44999,
           44999,
           44999,
           44999,
           49999,
           52999,
           44999,
           44999,
           53499,
           45999,
           45999,
           49999,
           54999,
           51999,
           51999,
           46799,
           46799,
           46799,
           54999,
           46999,
           46999,
           46999,
           50999,
           50999,
           46999,
           46999,
           46999,
           46999,
           46999,
           55999,
           52999,
           47999,
           47999,
           47999,
           47999,
           47999,
           47999,
           47999,
           47999,
           48499,
           48999,
           49799,
           49999,
           49999,
           49999,
           49999,
           49999,
           49999,
           49999,
           49999,
           49999,
           49999,
           49999,
           49999,
           49999,
           49999,
           49999,
           59999,
           49999,
           58999,
           50399,
           55999,
           50499,
           51999,
           51999,
           52799,
           52999,
           52999,
           52999,
           52999,
           52999,
           52999,
           52999,
           57999,
           57999,
           52999,
           52999,
           53299,
           62999,
           59999,
           59999,
           59999,
           59999,
           53999,
           54999,
           59999,
           54999,
           54999,
           54999,
           54999,
           54999,
           54999,
           54999,
           54999,
           64999,
           55799,
           55799,
           65999,
           56299,
           62999,
           56999,
           56999,
           56999,
           56999,
           67999,
           57999,
           57999,
           57999,
           57999,
           57999,
           57999,
           57999,
           57999,
           57999,
           58299,
           64999,
           64999,
           64999,
           64999,
           59999,
           59999,
           59999,
           59999,
           59999,
           59999,
           61999,
           69999,
           62999,
           62999,
           62999,
           62999,
           62999,
           62999,
           62999,
           62999,
           66999,
           66999,
           63499,
           64299,
           64799,
           64799,
           64999,
           64999,
           64999,
           64999,
           64999,
           64999,
           64999,
           64999,
           68499,
           69999,
           64999,
           64999,
           74999,
           65999,
           65999,
           65999,
           66499,
           73999,
           66799,
           66999,
           66999,
           74999,
           74999,
           79999,
           79999,
           75999,
           75999,
           68999,
           74999,
           69799,
           69999,
           69999,
           69999,
           69999,
           79999,
           79999,
           69999,
           69999,
           76999,
           70299,
           77999,
           79999,
           79999,
           79999,
           79999,
           71999,
           79999,
           79999,
           72999,
           72999,
           73299,
           73999,
           73999,
           86999,
           82999,
           74999,
           74999,
           74999,
           74999,
           74999,
           74999,
           74999,
           74999,
           74999,
           74999,
           83999,
           83999,
           75799,
           84999,
           89999,
           84999,
           84999,
           76999,
           76999,
           76999,
           85999,
           85999,
           77999,
           77999,
           77999,
           78999,
           85999,
           85999,
           87999,
           109999,
           87999,
           87999,
           79499,
           79799,
           79999,
           79999,
           79999,
           79999,
           89999,
           79999,
           79999,
           85999,
           79999,
           79999,
           79999,
           79999,
           88999,
           80499,
           87999,
           87999,
           87999,
           89999,
           89999,
           89999,
           89999,
           89999,
           89999,
           89999,
           81799,
           87999,
           91999,
           89999,
           82999,
           82999,
           82999,
           92999,
           92999,
           92999,
           92999,
           92999,
           83999,
           83999,
           93999,
           93999,
           84999,
           84999,
           84999,
           84999,
           84999,
           94999,
           94999,
           94999,
           94999,
           94999,
           85799,
           85999,
           85999,
           85999,
           85999,
           95999,
           86999,
           86999,
           87799,
           87799,
           87999,
           88799,
           88999,
           98999,
           98999,
           89999,
           99999,
           99999,
           89999,
           99999,
           89999,
           99999,
           89999,
           99999,
           89999,
           89999,
           99999,
           89999,
           89999,
           89999,
           99999,
           99999,
           90299,
           92299,
           102999,
           109999,
           109999,
           103999,
           104999,
           104999,
           104999,
           94999,
           94999,
           103999,
           94999,
           94999,
           94999,
           95999,
           106999,
           105999,
           107999,
           97999,
           97999,
           109999,
           109999,
           109999,
           99999,
           99999,
           99999,
           100499,
           109999,
           109999,
           109999,
           109999,
           101499,
           110999,
           102499,
           113999,
           111999,
           111999,
           111999,
           111999,
           111999,
           111999,
           114999,
           113999,
           113999,
           104999,
           114999,
           104999,
           105999,
           119999,
           119999,
           117999,
           109499,
           121999,
           109999,
           123999,
           113999,
           123999,
           123999,
           123999,
           126999,
           114999,
           134999,
           114999,
           128499,
           119999,
           128999,
           116999,
           117499,
           131499,
           129999,
           129999,
           119999,
           131999,
           119999,
           119999,
           119999,
           120499,
           134999,
           136999,
           123999,
           123999,
           137999,
           135499,
           138999,
           138999,
           125999,
           126499,
           126999,
           128499,
           129999,
           129999,
           129999,
           129999,
           129999,
           130499,
           131499,
           154999,
           143999,
           132999,
           133499,
           134999,
           149999,
           149999,
           134999,
           149999,
           146999,
           146999,
           146999,
           146999,
           146999,
           159999,
           136999,
           136999,
           136999,
           137999,
           138999,
           139999,
           139999,
           139999,
           139999,
           156999,
           141999,
           142999,
           159999,
           159999,
           159999,
           144999,
           144999,
           144999,
           146999,
           149999,
           149999,
           149999,
           150999,
           169999,
           154999,
           154999,
           154999,
           169999,
           169999,
           156999,
           159999,
           159999,
           164999,
           169999,
           169999,
           169999,
           171999,
           174999,
           209999,
           179999,
           179999,
           179999,
           180999,
           184999,
           186999,
           204999,
           204999,
           209999,
           189999,
           229999,
           195999,
           219999,
           219999,
           219999,
           226999,
           226999,
           209999,
           234999,
           234999,
           227999,
           232999,
           234999,
           236999,
           243999,
           299999,
           284999,
           269999,
           274999,
           359999
          ],
          [
           89,
           52,
           27,
           3,
           0,
           35,
           16,
           5,
           17,
           11,
           3,
           1,
           108,
           8,
           17,
           27,
           0,
           0,
           6,
           12,
           6,
           10,
           117,
           2,
           8,
           1,
           43,
           0,
           132,
           0,
           11,
           16,
           0,
           8,
           8,
           2,
           7,
           1,
           2,
           6,
           1,
           3,
           4,
           2,
           34,
           14,
           6,
           8,
           15,
           3,
           21,
           1,
           32,
           2,
           42,
           3,
           14,
           47,
           3,
           13,
           12,
           1,
           11,
           33,
           47,
           0,
           56,
           0,
           26,
           8,
           7,
           24,
           43,
           11,
           22,
           10,
           8,
           14,
           35,
           24,
           92,
           21,
           8,
           36,
           2,
           304,
           0,
           68,
           4,
           1,
           2,
           13,
           6,
           23,
           2,
           83,
           7,
           4,
           3,
           9,
           2,
           2,
           94,
           6,
           0,
           17,
           11,
           41,
           5,
           44,
           90,
           8,
           32,
           0,
           41,
           4,
           2,
           41,
           1,
           6,
           1,
           8,
           0,
           10,
           13,
           14,
           90,
           5,
           5,
           1,
           3,
           92,
           17,
           17,
           15,
           4,
           20,
           8,
           3,
           3,
           6,
           1,
           27,
           43,
           16,
           8,
           124,
           8,
           472,
           6,
           3,
           7,
           0,
           4,
           75,
           92,
           27,
           30,
           0,
           1,
           1,
           1,
           10,
           5,
           2,
           2,
           0,
           0,
           8,
           23,
           1,
           15,
           1,
           194,
           16,
           1,
           28,
           5,
           3,
           6,
           0,
           7,
           5,
           4,
           16,
           0,
           3,
           12,
           18,
           16,
           0,
           0,
           0,
           9,
           7,
           5,
           1,
           424,
           4,
           3,
           6,
           139,
           1,
           9,
           20,
           7,
           43,
           3,
           0,
           15,
           26,
           0,
           0,
           0,
           0,
           0,
           0,
           3,
           24,
           9,
           0,
           80,
           16,
           5,
           0,
           20,
           78,
           19,
           0,
           5,
           232,
           21,
           345,
           45,
           0,
           2,
           15,
           0,
           0,
           130,
           4,
           0,
           104,
           0,
           0,
           2,
           0,
           7,
           0,
           0,
           41,
           15,
           46,
           0,
           1,
           22,
           35,
           102,
           42,
           71,
           0,
           1,
           0,
           244,
           2,
           0,
           2,
           4,
           0,
           4,
           22,
           0,
           13,
           22,
           24,
           2,
           16,
           6,
           434,
           0,
           19,
           0,
           2,
           0,
           359,
           4,
           0,
           14,
           0,
           9,
           0,
           2,
           0,
           22,
           0,
           0,
           2,
           3,
           0,
           4,
           0,
           0,
           0,
           26,
           1,
           4,
           11,
           80,
           0,
           38,
           3,
           6,
           0,
           223,
           7,
           4,
           0,
           0,
           30,
           0,
           435,
           1,
           25,
           9,
           0,
           0,
           0,
           0,
           4,
           4,
           1,
           0,
           8,
           6,
           8,
           0,
           0,
           0,
           1,
           703,
           22,
           0,
           11,
           1,
           5,
           4,
           1,
           4,
           0,
           0,
           0,
           0,
           0,
           1,
           0,
           0,
           7,
           0,
           0,
           0,
           0,
           0,
           0,
           0,
           0,
           15,
           66,
           20,
           0,
           10,
           0,
           16,
           1,
           1,
           51,
           5,
           48,
           2,
           1,
           6,
           0,
           0,
           0,
           3,
           0,
           6,
           37,
           88,
           75,
           1,
           11,
           0,
           20,
           0,
           6,
           2,
           6,
           3,
           126,
           29,
           377,
           0,
           0,
           0,
           0,
           0,
           28,
           0,
           46,
           49,
           0,
           2,
           1,
           2,
           0,
           175,
           1,
           7,
           17,
           0,
           10,
           0,
           180,
           2,
           2,
           0,
           18,
           45,
           1,
           0,
           3,
           0,
           16,
           13,
           7,
           0,
           0,
           30,
           9,
           0,
           0,
           0,
           243,
           55,
           55,
           157,
           122,
           19,
           27,
           0,
           0,
           1,
           1,
           0,
           0,
           25,
           0,
           3,
           8,
           2,
           12,
           2,
           163,
           110,
           10,
           55,
           55,
           55,
           13,
           2,
           39,
           0,
           0,
           0,
           1,
           0,
           0,
           0,
           4,
           19,
           17,
           0,
           0,
           0,
           0,
           63,
           7,
           0,
           6,
           1,
           38,
           0,
           3,
           1,
           0,
           0,
           0,
           1,
           1,
           21,
           7,
           0,
           0,
           0,
           4,
           9,
           0,
           10,
           0,
           0,
           0,
           9,
           0,
           0,
           17,
           0,
           11,
           11,
           0,
           4,
           1,
           0,
           1,
           0,
           1,
           4,
           0,
           0,
           7,
           3,
           43,
           4,
           8,
           0,
           0,
           1,
           0,
           1,
           17,
           1,
           1,
           39,
           2,
           0,
           7,
           13,
           24,
           1,
           6,
           2,
           23,
           1,
           0,
           0,
           11,
           0,
           0,
           6,
           26,
           5,
           6,
           39,
           39,
           39,
           39,
           0,
           55,
           0,
           0,
           40,
           40,
           39,
           39,
           39,
           39,
           32,
           40,
           40,
           3,
           29,
           3,
           0,
           25,
           1,
           25,
           0,
           41,
           0,
           0,
           55,
           1,
           1,
           1,
           35,
           2,
           122,
           0,
           0,
           0,
           1,
           0,
           0,
           0,
           1,
           1,
           1,
           25,
           1,
           3,
           0,
           0,
           39,
           4,
           0,
           0,
           0,
           40,
           0,
           1,
           0,
           1,
           0,
           0,
           0,
           1,
           1,
           0,
           0,
           0,
           0,
           224,
           40,
           0,
           0,
           54,
           22,
           21,
           78,
           5,
           40,
           39,
           39,
           39,
           39,
           8,
           6,
           1,
           0,
           0,
           0,
           60,
           0,
           15,
           33,
           4,
           0,
           46,
           0,
           1,
           1,
           9,
           2,
           3,
           0,
           44,
           4,
           53,
           0,
           15,
           25,
           0,
           2,
           50,
           50,
           1,
           15,
           33,
           11,
           116,
           116,
           0,
           0,
           2,
           36,
           0,
           16,
           0,
           2,
           0,
           1,
           5,
           5,
           66,
           0,
           46,
           53,
           0,
           50,
           50,
           50,
           50,
           2,
           5,
           5,
           0,
           0,
           9,
           0,
           0,
           21,
           1,
           0,
           0,
           21
          ]
         ]
        }
       ],
       "layout": {
        "autosize": true,
        "legend": {
         "bgcolor": "#F5F6F9",
         "font": {
          "color": "#4D5663"
         }
        },
        "paper_bgcolor": "#F5F6F9",
        "plot_bgcolor": "#F5F6F9",
        "scene": {
         "aspectmode": "auto",
         "aspectratio": {
          "x": 1,
          "y": 1,
          "z": 1
         }
        },
        "template": {
         "data": {
          "bar": [
           {
            "error_x": {
             "color": "#2a3f5f"
            },
            "error_y": {
             "color": "#2a3f5f"
            },
            "marker": {
             "line": {
              "color": "#E5ECF6",
              "width": 0.5
             },
             "pattern": {
              "fillmode": "overlay",
              "size": 10,
              "solidity": 0.2
             }
            },
            "type": "bar"
           }
          ],
          "barpolar": [
           {
            "marker": {
             "line": {
              "color": "#E5ECF6",
              "width": 0.5
             },
             "pattern": {
              "fillmode": "overlay",
              "size": 10,
              "solidity": 0.2
             }
            },
            "type": "barpolar"
           }
          ],
          "carpet": [
           {
            "aaxis": {
             "endlinecolor": "#2a3f5f",
             "gridcolor": "white",
             "linecolor": "white",
             "minorgridcolor": "white",
             "startlinecolor": "#2a3f5f"
            },
            "baxis": {
             "endlinecolor": "#2a3f5f",
             "gridcolor": "white",
             "linecolor": "white",
             "minorgridcolor": "white",
             "startlinecolor": "#2a3f5f"
            },
            "type": "carpet"
           }
          ],
          "choropleth": [
           {
            "colorbar": {
             "outlinewidth": 0,
             "ticks": ""
            },
            "type": "choropleth"
           }
          ],
          "contour": [
           {
            "colorbar": {
             "outlinewidth": 0,
             "ticks": ""
            },
            "colorscale": [
             [
              0,
              "#0d0887"
             ],
             [
              0.1111111111111111,
              "#46039f"
             ],
             [
              0.2222222222222222,
              "#7201a8"
             ],
             [
              0.3333333333333333,
              "#9c179e"
             ],
             [
              0.4444444444444444,
              "#bd3786"
             ],
             [
              0.5555555555555556,
              "#d8576b"
             ],
             [
              0.6666666666666666,
              "#ed7953"
             ],
             [
              0.7777777777777778,
              "#fb9f3a"
             ],
             [
              0.8888888888888888,
              "#fdca26"
             ],
             [
              1,
              "#f0f921"
             ]
            ],
            "type": "contour"
           }
          ],
          "contourcarpet": [
           {
            "colorbar": {
             "outlinewidth": 0,
             "ticks": ""
            },
            "type": "contourcarpet"
           }
          ],
          "heatmap": [
           {
            "colorbar": {
             "outlinewidth": 0,
             "ticks": ""
            },
            "colorscale": [
             [
              0,
              "#0d0887"
             ],
             [
              0.1111111111111111,
              "#46039f"
             ],
             [
              0.2222222222222222,
              "#7201a8"
             ],
             [
              0.3333333333333333,
              "#9c179e"
             ],
             [
              0.4444444444444444,
              "#bd3786"
             ],
             [
              0.5555555555555556,
              "#d8576b"
             ],
             [
              0.6666666666666666,
              "#ed7953"
             ],
             [
              0.7777777777777778,
              "#fb9f3a"
             ],
             [
              0.8888888888888888,
              "#fdca26"
             ],
             [
              1,
              "#f0f921"
             ]
            ],
            "type": "heatmap"
           }
          ],
          "heatmapgl": [
           {
            "colorbar": {
             "outlinewidth": 0,
             "ticks": ""
            },
            "colorscale": [
             [
              0,
              "#0d0887"
             ],
             [
              0.1111111111111111,
              "#46039f"
             ],
             [
              0.2222222222222222,
              "#7201a8"
             ],
             [
              0.3333333333333333,
              "#9c179e"
             ],
             [
              0.4444444444444444,
              "#bd3786"
             ],
             [
              0.5555555555555556,
              "#d8576b"
             ],
             [
              0.6666666666666666,
              "#ed7953"
             ],
             [
              0.7777777777777778,
              "#fb9f3a"
             ],
             [
              0.8888888888888888,
              "#fdca26"
             ],
             [
              1,
              "#f0f921"
             ]
            ],
            "type": "heatmapgl"
           }
          ],
          "histogram": [
           {
            "marker": {
             "pattern": {
              "fillmode": "overlay",
              "size": 10,
              "solidity": 0.2
             }
            },
            "type": "histogram"
           }
          ],
          "histogram2d": [
           {
            "colorbar": {
             "outlinewidth": 0,
             "ticks": ""
            },
            "colorscale": [
             [
              0,
              "#0d0887"
             ],
             [
              0.1111111111111111,
              "#46039f"
             ],
             [
              0.2222222222222222,
              "#7201a8"
             ],
             [
              0.3333333333333333,
              "#9c179e"
             ],
             [
              0.4444444444444444,
              "#bd3786"
             ],
             [
              0.5555555555555556,
              "#d8576b"
             ],
             [
              0.6666666666666666,
              "#ed7953"
             ],
             [
              0.7777777777777778,
              "#fb9f3a"
             ],
             [
              0.8888888888888888,
              "#fdca26"
             ],
             [
              1,
              "#f0f921"
             ]
            ],
            "type": "histogram2d"
           }
          ],
          "histogram2dcontour": [
           {
            "colorbar": {
             "outlinewidth": 0,
             "ticks": ""
            },
            "colorscale": [
             [
              0,
              "#0d0887"
             ],
             [
              0.1111111111111111,
              "#46039f"
             ],
             [
              0.2222222222222222,
              "#7201a8"
             ],
             [
              0.3333333333333333,
              "#9c179e"
             ],
             [
              0.4444444444444444,
              "#bd3786"
             ],
             [
              0.5555555555555556,
              "#d8576b"
             ],
             [
              0.6666666666666666,
              "#ed7953"
             ],
             [
              0.7777777777777778,
              "#fb9f3a"
             ],
             [
              0.8888888888888888,
              "#fdca26"
             ],
             [
              1,
              "#f0f921"
             ]
            ],
            "type": "histogram2dcontour"
           }
          ],
          "mesh3d": [
           {
            "colorbar": {
             "outlinewidth": 0,
             "ticks": ""
            },
            "type": "mesh3d"
           }
          ],
          "parcoords": [
           {
            "line": {
             "colorbar": {
              "outlinewidth": 0,
              "ticks": ""
             }
            },
            "type": "parcoords"
           }
          ],
          "pie": [
           {
            "automargin": true,
            "type": "pie"
           }
          ],
          "scatter": [
           {
            "marker": {
             "colorbar": {
              "outlinewidth": 0,
              "ticks": ""
             }
            },
            "type": "scatter"
           }
          ],
          "scatter3d": [
           {
            "line": {
             "colorbar": {
              "outlinewidth": 0,
              "ticks": ""
             }
            },
            "marker": {
             "colorbar": {
              "outlinewidth": 0,
              "ticks": ""
             }
            },
            "type": "scatter3d"
           }
          ],
          "scattercarpet": [
           {
            "marker": {
             "colorbar": {
              "outlinewidth": 0,
              "ticks": ""
             }
            },
            "type": "scattercarpet"
           }
          ],
          "scattergeo": [
           {
            "marker": {
             "colorbar": {
              "outlinewidth": 0,
              "ticks": ""
             }
            },
            "type": "scattergeo"
           }
          ],
          "scattergl": [
           {
            "marker": {
             "colorbar": {
              "outlinewidth": 0,
              "ticks": ""
             }
            },
            "type": "scattergl"
           }
          ],
          "scattermapbox": [
           {
            "marker": {
             "colorbar": {
              "outlinewidth": 0,
              "ticks": ""
             }
            },
            "type": "scattermapbox"
           }
          ],
          "scatterpolar": [
           {
            "marker": {
             "colorbar": {
              "outlinewidth": 0,
              "ticks": ""
             }
            },
            "type": "scatterpolar"
           }
          ],
          "scatterpolargl": [
           {
            "marker": {
             "colorbar": {
              "outlinewidth": 0,
              "ticks": ""
             }
            },
            "type": "scatterpolargl"
           }
          ],
          "scatterternary": [
           {
            "marker": {
             "colorbar": {
              "outlinewidth": 0,
              "ticks": ""
             }
            },
            "type": "scatterternary"
           }
          ],
          "surface": [
           {
            "colorbar": {
             "outlinewidth": 0,
             "ticks": ""
            },
            "colorscale": [
             [
              0,
              "#0d0887"
             ],
             [
              0.1111111111111111,
              "#46039f"
             ],
             [
              0.2222222222222222,
              "#7201a8"
             ],
             [
              0.3333333333333333,
              "#9c179e"
             ],
             [
              0.4444444444444444,
              "#bd3786"
             ],
             [
              0.5555555555555556,
              "#d8576b"
             ],
             [
              0.6666666666666666,
              "#ed7953"
             ],
             [
              0.7777777777777778,
              "#fb9f3a"
             ],
             [
              0.8888888888888888,
              "#fdca26"
             ],
             [
              1,
              "#f0f921"
             ]
            ],
            "type": "surface"
           }
          ],
          "table": [
           {
            "cells": {
             "fill": {
              "color": "#EBF0F8"
             },
             "line": {
              "color": "white"
             }
            },
            "header": {
             "fill": {
              "color": "#C8D4E3"
             },
             "line": {
              "color": "white"
             }
            },
            "type": "table"
           }
          ]
         },
         "layout": {
          "annotationdefaults": {
           "arrowcolor": "#2a3f5f",
           "arrowhead": 0,
           "arrowwidth": 1
          },
          "autotypenumbers": "strict",
          "coloraxis": {
           "colorbar": {
            "outlinewidth": 0,
            "ticks": ""
           }
          },
          "colorscale": {
           "diverging": [
            [
             0,
             "#8e0152"
            ],
            [
             0.1,
             "#c51b7d"
            ],
            [
             0.2,
             "#de77ae"
            ],
            [
             0.3,
             "#f1b6da"
            ],
            [
             0.4,
             "#fde0ef"
            ],
            [
             0.5,
             "#f7f7f7"
            ],
            [
             0.6,
             "#e6f5d0"
            ],
            [
             0.7,
             "#b8e186"
            ],
            [
             0.8,
             "#7fbc41"
            ],
            [
             0.9,
             "#4d9221"
            ],
            [
             1,
             "#276419"
            ]
           ],
           "sequential": [
            [
             0,
             "#0d0887"
            ],
            [
             0.1111111111111111,
             "#46039f"
            ],
            [
             0.2222222222222222,
             "#7201a8"
            ],
            [
             0.3333333333333333,
             "#9c179e"
            ],
            [
             0.4444444444444444,
             "#bd3786"
            ],
            [
             0.5555555555555556,
             "#d8576b"
            ],
            [
             0.6666666666666666,
             "#ed7953"
            ],
            [
             0.7777777777777778,
             "#fb9f3a"
            ],
            [
             0.8888888888888888,
             "#fdca26"
            ],
            [
             1,
             "#f0f921"
            ]
           ],
           "sequentialminus": [
            [
             0,
             "#0d0887"
            ],
            [
             0.1111111111111111,
             "#46039f"
            ],
            [
             0.2222222222222222,
             "#7201a8"
            ],
            [
             0.3333333333333333,
             "#9c179e"
            ],
            [
             0.4444444444444444,
             "#bd3786"
            ],
            [
             0.5555555555555556,
             "#d8576b"
            ],
            [
             0.6666666666666666,
             "#ed7953"
            ],
            [
             0.7777777777777778,
             "#fb9f3a"
            ],
            [
             0.8888888888888888,
             "#fdca26"
            ],
            [
             1,
             "#f0f921"
            ]
           ]
          },
          "colorway": [
           "#636efa",
           "#EF553B",
           "#00cc96",
           "#ab63fa",
           "#FFA15A",
           "#19d3f3",
           "#FF6692",
           "#B6E880",
           "#FF97FF",
           "#FECB52"
          ],
          "font": {
           "color": "#2a3f5f"
          },
          "geo": {
           "bgcolor": "white",
           "lakecolor": "white",
           "landcolor": "#E5ECF6",
           "showlakes": true,
           "showland": true,
           "subunitcolor": "white"
          },
          "hoverlabel": {
           "align": "left"
          },
          "hovermode": "closest",
          "mapbox": {
           "style": "light"
          },
          "paper_bgcolor": "white",
          "plot_bgcolor": "#E5ECF6",
          "polar": {
           "angularaxis": {
            "gridcolor": "white",
            "linecolor": "white",
            "ticks": ""
           },
           "bgcolor": "#E5ECF6",
           "radialaxis": {
            "gridcolor": "white",
            "linecolor": "white",
            "ticks": ""
           }
          },
          "scene": {
           "xaxis": {
            "backgroundcolor": "#E5ECF6",
            "gridcolor": "white",
            "gridwidth": 2,
            "linecolor": "white",
            "showbackground": true,
            "ticks": "",
            "zerolinecolor": "white"
           },
           "yaxis": {
            "backgroundcolor": "#E5ECF6",
            "gridcolor": "white",
            "gridwidth": 2,
            "linecolor": "white",
            "showbackground": true,
            "ticks": "",
            "zerolinecolor": "white"
           },
           "zaxis": {
            "backgroundcolor": "#E5ECF6",
            "gridcolor": "white",
            "gridwidth": 2,
            "linecolor": "white",
            "showbackground": true,
            "ticks": "",
            "zerolinecolor": "white"
           }
          },
          "shapedefaults": {
           "line": {
            "color": "#2a3f5f"
           }
          },
          "ternary": {
           "aaxis": {
            "gridcolor": "white",
            "linecolor": "white",
            "ticks": ""
           },
           "baxis": {
            "gridcolor": "white",
            "linecolor": "white",
            "ticks": ""
           },
           "bgcolor": "#E5ECF6",
           "caxis": {
            "gridcolor": "white",
            "linecolor": "white",
            "ticks": ""
           }
          },
          "title": {
           "x": 0.05
          },
          "xaxis": {
           "automargin": true,
           "gridcolor": "white",
           "linecolor": "white",
           "ticks": "",
           "title": {
            "standoff": 15
           },
           "zerolinecolor": "white",
           "zerolinewidth": 2
          },
          "yaxis": {
           "automargin": true,
           "gridcolor": "white",
           "linecolor": "white",
           "ticks": "",
           "title": {
            "standoff": 15
           },
           "zerolinecolor": "white",
           "zerolinewidth": 2
          }
         }
        },
        "title": {
         "font": {
          "color": "#4D5663"
         }
        },
        "xaxis": {
         "gridcolor": "#E1E5ED",
         "showgrid": true,
         "tickfont": {
          "color": "#4D5663"
         },
         "title": {
          "font": {
           "color": "#4D5663"
          },
          "text": ""
         },
         "zerolinecolor": "#E1E5ED"
        },
        "yaxis": {
         "gridcolor": "#E1E5ED",
         "showgrid": true,
         "tickfont": {
          "color": "#4D5663"
         },
         "title": {
          "font": {
           "color": "#4D5663"
          },
          "text": ""
         },
         "zerolinecolor": "#E1E5ED"
        }
       }
      },
      "image/png": "[encoded data removed]",
      "text/html": [
       "<div>                            <div id=\"c65dad29-81aa-4e85-90b9-54af753cdf5a\" class=\"plotly-graph-div\" style=\"height:525px; width:100%;\"></div>            <script type=\"text/javascript\">                require([\"plotly\"], function(Plotly) {                    window.PLOTLYENV=window.PLOTLYENV || {};\n",
       "                    window.PLOTLYENV.BASE_URL='https://plot.ly';                                    if (document.getElementById(\"c65dad29-81aa-4e85-90b9-54af753cdf5a\")) {                    Plotly.newPlot(                        \"c65dad29-81aa-4e85-90b9-54af753cdf5a\",                        [{\"colorscale\":[[0.0,\"rgb(165,0,38)\"],[0.1,\"rgb(215,48,39)\"],[0.2,\"rgb(244,109,67)\"],[0.3,\"rgb(253,174,97)\"],[0.4,\"rgb(254,224,144)\"],[0.5,\"rgb(255,255,191)\"],[0.6,\"rgb(224,243,248)\"],[0.7,\"rgb(171,217,233)\"],[0.8,\"rgb(116,173,209)\"],[0.9,\"rgb(69,117,180)\"],[1.0,\"rgb(49,54,149)\"]],\"x\":[0,1,2,3,4,5,6,7,8,9,10,11,12,13,14,15,16,17,18,19,20,21,22,23,24,25,26,27,28,29,30,31,32,33,34,35,36,37,38,39,40,41,42,43,44,45,46,47,48,49,50,51,52,53,54,55,56,57,58,59,60,61,62,63,64,65,66,67,68,69,70,71,72,73,74,75,76,77,78,79,80,81,82,83,84,85,86,87,88,89,90,91,92,93,94,95,96,97,98,99,100,101,102,103,104,105,106,107,108,109,110,111,112,113,114,115,116,117,118,119,120,121,122,123,124,125,126,127,128,129,130,131,132,133,134,135,136,137,138,139,140,141,142,143,144,145,146,147,148,149,150,151,152,153,154,155,156,157,158,159,160,161,162,163,164,165,166,167,168,169,170,171,172,173,174,175,176,177,178,179,180,181,182,183,184,185,186,187,188,189,190,191,192,193,194,195,196,197,198,199,200,201,202,203,204,205,206,207,208,209,210,211,212,213,214,215,216,217,218,219,220,221,222,223,224,225,226,227,228,229,230,231,232,233,234,235,236,237,238,239,240,241,242,243,244,245,246,247,248,249,250,251,252,253,254,255,256,257,258,259,260,261,262,263,264,265,266,267,268,269,270,271,272,273,274,275,276,277,278,279,280,281,282,283,284,285,286,287,288,289,290,291,292,293,294,295,296,297,298,299,300,301,302,303,304,305,306,307,308,309,310,311,312,313,314,315,316,317,318,319,320,321,322,323,324,325,326,327,328,329,330,331,332,333,334,335,336,337,338,339,340,341,342,343,344,345,346,347,348,349,350,351,352,353,354,355,356,357,358,359,360,361,362,363,364,365,366,367,368,369,370,371,372,373,374,375,376,377,378,379,380,381,382,383,384,385,386,387,388,389,390,391,392,393,394,395,396,397,398,399,400,401,402,403,404,405,406,407,408,409,410,411,412,413,414,415,416,417,418,419,420,421,422,423,424,425,426,427,428,429,430,431,432,433,434,435,436,437,438,439,440,441,442,443,444,445,446,447,448,449,450,451,452,453,454,455,456,457,458,459,460,461,462,463,464,465,466,467,468,469,470,471,472,473,474,475,476,477,478,479,480,481,482,483,484,485,486,487,488,489,490,491,492,493,494,495,496,497,498,499,500,501,502,503,504,505,506,507,508,509,510,511,512,513,514,515,516,517,518,519,520,521,522,523,524,525,526,527,528,529,530,531,532,533,534,535,536,537,538,539,540,541,542,543,544,545,546,547,548,549,550,551,552,553,554,555,556,557,558,559,560,561,562,563,564,565,566,567,568,569,570,571,572,573,574,575,576,577,578,579,580,581,582,583,584,585,586,587,588,589,590,591,592,593,594,595,596,597,598,599,600,601,602,603,604,605,606,607,608,609,610,611,612,613,614,615,616,617,618,619,620,621,622,623,624,625,626,627,628,629,630,631,632,633,634,635,636,637,638,639,640,641,642,643,644,645,646,647,648,649,650,651,652,653,654,655,656,657,658,659,660,661,662,663,664,665,666,667,668,669,670,671,672,673,674,675,676,677,678,679,680,681,682,683,684,685,686,687,688,689,690,691,692,693,694,695,696,697,698,699,700,701,702,703,704,705,706,707,708,709,710,711,712,713],\"y\":[\"rating\",\"price\",\"votes\"],\"z\":[[3.5,4.5,4.0,2.5,0.0,3.5,4.0,3.5,3.5,4.5,4.5,5.0,4.5,5.0,4.5,4.5,0.0,0.0,4.5,4.5,5.0,4.5,4.5,5.0,4.5,5.0,4.5,0.0,4.5,0.0,4.0,4.5,0.0,4.5,4.5,5.0,4.5,5.0,5.0,4.5,5.0,3.0,4.5,5.0,4.5,4.5,3.5,4.5,4.5,4.5,4.5,5.0,4.5,3.5,4.5,4.0,4.5,4.0,3.5,4.5,4.5,5.0,4.0,4.5,4.5,0.0,4.5,0.0,4.5,5.0,4.5,4.0,4.5,4.5,4.5,4.5,3.5,4.5,4.0,4.5,4.5,4.5,4.0,4.5,4.0,4.5,0.0,4.5,5.0,5.0,5.0,4.5,4.5,4.0,4.5,4.5,4.5,4.0,4.5,4.0,3.5,3.5,4.5,4.0,0.0,4.5,4.5,4.5,5.0,4.5,4.5,4.5,4.0,0.0,4.5,5.0,5.0,4.5,5.0,5.0,5.0,2.0,0.0,4.5,4.5,4.5,4.5,4.0,4.5,4.0,5.0,4.5,4.0,4.5,4.5,4.5,4.5,5.0,5.0,5.0,4.5,5.0,4.5,4.5,4.5,4.5,4.5,5.0,4.5,1.5,5.0,5.0,0.0,4.5,4.5,4.5,4.5,4.5,0.0,4.0,5.0,5.0,4.5,4.0,5.0,5.0,0.0,0.0,4.0,4.5,5.0,4.5,5.0,4.5,5.0,1.0,4.5,4.0,5.0,4.5,0.0,4.5,4.5,3.5,4.5,0.0,4.5,4.5,4.5,4.5,0.0,0.0,0.0,5.0,5.0,5.0,4.0,4.5,4.0,5.0,5.0,4.5,4.0,4.5,4.5,3.5,4.5,4.0,0.0,4.5,4.5,0.0,0.0,0.0,0.0,0.0,0.0,5.0,4.5,4.0,0.0,4.5,4.5,4.0,0.0,4.5,4.5,4.5,0.0,3.5,4.5,4.5,4.5,4.5,0.0,5.0,4.0,0.0,0.0,4.5,4.5,0.0,4.5,0.0,0.0,5.0,0.0,4.0,0.0,0.0,4.5,4.5,4.5,0.0,5.0,4.5,4.5,4.5,4.5,4.5,0.0,5.0,0.0,4.5,5.0,0.0,5.0,4.5,0.0,5.0,4.5,0.0,4.5,4.5,4.5,3.0,4.5,4.0,4.5,0.0,4.5,0.0,5.0,0.0,4.5,4.5,0.0,4.5,0.0,4.5,0.0,4.0,0.0,4.5,0.0,0.0,4.5,5.0,0.0,5.0,0.0,0.0,0.0,4.5,3.0,4.0,4.5,4.5,0.0,4.5,5.0,5.0,0.0,4.5,4.5,4.5,0.0,0.0,4.5,0.0,4.5,4.0,4.5,4.5,0.0,0.0,0.0,0.0,4.5,5.0,5.0,0.0,4.5,4.5,5.0,0.0,0.0,0.0,5.0,4.5,4.5,0.0,5.0,5.0,4.5,5.0,5.0,3.5,0.0,0.0,0.0,0.0,0.0,5.0,0.0,0.0,4.0,0.0,0.0,0.0,0.0,0.0,0.0,0.0,0.0,4.5,4.5,5.0,0.0,4.5,0.0,5.0,4.0,4.0,4.5,5.0,4.5,5.0,5.0,4.5,0.0,0.0,0.0,5.0,0.0,4.5,4.5,4.5,4.5,3.0,4.5,0.0,4.5,0.0,5.0,5.0,5.0,5.0,4.5,5.0,4.5,0.0,0.0,0.0,0.0,0.0,4.5,0.0,5.0,4.5,0.0,5.0,4.0,5.0,0.0,4.5,5.0,5.0,4.5,0.0,4.5,0.0,4.5,5.0,5.0,0.0,4.5,4.5,4.0,0.0,5.0,0.0,4.5,4.5,5.0,0.0,0.0,4.0,3.5,0.0,0.0,0.0,4.5,4.5,4.5,4.5,4.0,4.5,5.0,0.0,0.0,5.0,5.0,0.0,0.0,4.5,0.0,5.0,5.0,3.5,3.5,5.0,4.5,4.5,4.5,4.5,4.5,4.5,5.0,5.0,4.5,0.0,0.0,0.0,5.0,0.0,0.0,0.0,4.5,4.5,4.0,0.0,0.0,0.0,0.0,4.5,5.0,0.0,4.5,3.0,4.5,0.0,5.0,5.0,0.0,0.0,0.0,5.0,5.0,4.5,5.0,0.0,0.0,0.0,5.0,5.0,0.0,5.0,0.0,0.0,0.0,5.0,0.0,0.0,4.5,0.0,5.0,4.0,0.0,5.0,5.0,0.0,5.0,0.0,5.0,4.5,0.0,0.0,4.5,4.0,4.5,5.0,4.5,0.0,0.0,5.0,0.0,5.0,4.5,5.0,5.0,4.5,5.0,0.0,4.5,4.5,4.5,5.0,3.5,4.0,4.5,5.0,0.0,0.0,4.5,0.0,0.0,5.0,4.0,4.5,5.0,4.5,4.5,4.5,4.5,0.0,4.5,0.0,0.0,5.0,5.0,4.5,4.5,4.5,4.5,4.5,5.0,5.0,5.0,4.5,3.0,0.0,4.5,5.0,4.5,0.0,4.5,0.0,0.0,4.5,5.0,5.0,5.0,4.0,5.0,4.0,0.0,0.0,0.0,4.0,0.0,0.0,0.0,5.0,5.0,5.0,4.5,5.0,5.0,0.0,0.0,4.5,4.5,0.0,0.0,0.0,5.0,0.0,5.0,0.0,3.0,0.0,0.0,0.0,4.0,1.0,0.0,0.0,0.0,0.0,4.5,5.0,0.0,0.0,4.5,4.5,4.5,4.5,4.5,5.0,4.5,4.5,4.5,4.5,4.5,5.0,5.0,0.0,0.0,0.0,4.5,0.0,4.5,4.5,5.0,0.0,4.0,0.0,4.0,3.0,3.5,4.5,5.0,0.0,4.5,4.5,4.5,0.0,4.5,4.5,0.0,5.0,4.5,4.5,5.0,4.5,4.5,4.0,4.5,4.5,0.0,4.5,5.0,4.5,0.0,4.0,0.0,5.0,0.0,5.0,5.0,5.0,4.5,0.0,4.5,5.0,0.0,4.5,4.5,4.5,4.5,3.5,5.0,5.0,0.0,0.0,4.0,0.0,0.0,4.5,5.0,0.0,0.0,4.5],[14999.0,15999.0,15999.0,17999.0,19199.0,19999.0,19999.0,19999.0,19999.0,27999.0,25999.0,26999.0,29999.0,29999.0,29999.0,29999.0,27199.0,30999.0,27999.0,27999.0,27999.0,27999.0,27999.0,27999.0,27999.0,27999.0,27999.0,28999.0,28999.0,32999.0,32999.0,32999.0,32999.0,32999.0,32999.0,32999.0,32999.0,32999.0,32999.0,32999.0,32999.0,32999.0,32999.0,29999.0,29999.0,29999.0,29999.0,29999.0,29999.0,29999.0,29999.0,29999.0,29999.0,29999.0,29999.0,34999.0,34999.0,31999.0,31999.0,34999.0,32999.0,32999.0,32999.0,32999.0,32999.0,32999.0,32999.0,32999.0,32999.0,32999.0,32999.0,32999.0,32999.0,32999.0,32999.0,32999.0,32999.0,32999.0,32999.0,32999.0,32999.0,32999.0,32999.0,32999.0,32999.0,38999.0,36999.0,36999.0,39999.0,33999.0,33999.0,36999.0,37999.0,34499.0,34999.0,34999.0,34999.0,34999.0,34999.0,34999.0,39999.0,39999.0,34999.0,34999.0,34999.0,34999.0,41999.0,41999.0,35999.0,35999.0,42999.0,39999.0,36999.0,36999.0,36999.0,36999.0,36999.0,39999.0,39999.0,40999.0,39999.0,36999.0,36999.0,36999.0,37999.0,37999.0,37999.0,37999.0,37999.0,37999.0,37999.0,37999.0,37999.0,37999.0,37999.0,37999.0,37999.0,37999.0,37999.0,37999.0,37999.0,37999.0,37999.0,37999.0,44999.0,41999.0,42999.0,38999.0,42999.0,38999.0,43999.0,39999.0,39999.0,44999.0,39999.0,39999.0,39999.0,44999.0,39999.0,44999.0,39999.0,39999.0,39999.0,39999.0,39999.0,39999.0,39999.0,39999.0,39999.0,39999.0,44999.0,44999.0,47999.0,47999.0,48999.0,41999.0,41999.0,41999.0,46999.0,41999.0,41999.0,41999.0,41999.0,41999.0,41999.0,41999.0,46999.0,49999.0,42999.0,42999.0,42999.0,42999.0,42999.0,42999.0,42999.0,42999.0,42999.0,42999.0,42999.0,42999.0,42999.0,42999.0,42999.0,42999.0,42999.0,42999.0,49999.0,47999.0,43999.0,43999.0,43999.0,48999.0,44799.0,44999.0,44999.0,49999.0,49999.0,44999.0,44999.0,44999.0,44999.0,44999.0,44999.0,44999.0,44999.0,49999.0,52999.0,44999.0,44999.0,53499.0,45999.0,45999.0,49999.0,54999.0,51999.0,51999.0,46799.0,46799.0,46799.0,54999.0,46999.0,46999.0,46999.0,50999.0,50999.0,46999.0,46999.0,46999.0,46999.0,46999.0,55999.0,52999.0,47999.0,47999.0,47999.0,47999.0,47999.0,47999.0,47999.0,47999.0,48499.0,48999.0,49799.0,49999.0,49999.0,49999.0,49999.0,49999.0,49999.0,49999.0,49999.0,49999.0,49999.0,49999.0,49999.0,49999.0,49999.0,49999.0,59999.0,49999.0,58999.0,50399.0,55999.0,50499.0,51999.0,51999.0,52799.0,52999.0,52999.0,52999.0,52999.0,52999.0,52999.0,52999.0,57999.0,57999.0,52999.0,52999.0,53299.0,62999.0,59999.0,59999.0,59999.0,59999.0,53999.0,54999.0,59999.0,54999.0,54999.0,54999.0,54999.0,54999.0,54999.0,54999.0,54999.0,64999.0,55799.0,55799.0,65999.0,56299.0,62999.0,56999.0,56999.0,56999.0,56999.0,67999.0,57999.0,57999.0,57999.0,57999.0,57999.0,57999.0,57999.0,57999.0,57999.0,58299.0,64999.0,64999.0,64999.0,64999.0,59999.0,59999.0,59999.0,59999.0,59999.0,59999.0,61999.0,69999.0,62999.0,62999.0,62999.0,62999.0,62999.0,62999.0,62999.0,62999.0,66999.0,66999.0,63499.0,64299.0,64799.0,64799.0,64999.0,64999.0,64999.0,64999.0,64999.0,64999.0,64999.0,64999.0,68499.0,69999.0,64999.0,64999.0,74999.0,65999.0,65999.0,65999.0,66499.0,73999.0,66799.0,66999.0,66999.0,74999.0,74999.0,79999.0,79999.0,75999.0,75999.0,68999.0,74999.0,69799.0,69999.0,69999.0,69999.0,69999.0,79999.0,79999.0,69999.0,69999.0,76999.0,70299.0,77999.0,79999.0,79999.0,79999.0,79999.0,71999.0,79999.0,79999.0,72999.0,72999.0,73299.0,73999.0,73999.0,86999.0,82999.0,74999.0,74999.0,74999.0,74999.0,74999.0,74999.0,74999.0,74999.0,74999.0,74999.0,83999.0,83999.0,75799.0,84999.0,89999.0,84999.0,84999.0,76999.0,76999.0,76999.0,85999.0,85999.0,77999.0,77999.0,77999.0,78999.0,85999.0,85999.0,87999.0,109999.0,87999.0,87999.0,79499.0,79799.0,79999.0,79999.0,79999.0,79999.0,89999.0,79999.0,79999.0,85999.0,79999.0,79999.0,79999.0,79999.0,88999.0,80499.0,87999.0,87999.0,87999.0,89999.0,89999.0,89999.0,89999.0,89999.0,89999.0,89999.0,81799.0,87999.0,91999.0,89999.0,82999.0,82999.0,82999.0,92999.0,92999.0,92999.0,92999.0,92999.0,83999.0,83999.0,93999.0,93999.0,84999.0,84999.0,84999.0,84999.0,84999.0,94999.0,94999.0,94999.0,94999.0,94999.0,85799.0,85999.0,85999.0,85999.0,85999.0,95999.0,86999.0,86999.0,87799.0,87799.0,87999.0,88799.0,88999.0,98999.0,98999.0,89999.0,99999.0,99999.0,89999.0,99999.0,89999.0,99999.0,89999.0,99999.0,89999.0,89999.0,99999.0,89999.0,89999.0,89999.0,99999.0,99999.0,90299.0,92299.0,102999.0,109999.0,109999.0,103999.0,104999.0,104999.0,104999.0,94999.0,94999.0,103999.0,94999.0,94999.0,94999.0,95999.0,106999.0,105999.0,107999.0,97999.0,97999.0,109999.0,109999.0,109999.0,99999.0,99999.0,99999.0,100499.0,109999.0,109999.0,109999.0,109999.0,101499.0,110999.0,102499.0,113999.0,111999.0,111999.0,111999.0,111999.0,111999.0,111999.0,114999.0,113999.0,113999.0,104999.0,114999.0,104999.0,105999.0,119999.0,119999.0,117999.0,109499.0,121999.0,109999.0,123999.0,113999.0,123999.0,123999.0,123999.0,126999.0,114999.0,134999.0,114999.0,128499.0,119999.0,128999.0,116999.0,117499.0,131499.0,129999.0,129999.0,119999.0,131999.0,119999.0,119999.0,119999.0,120499.0,134999.0,136999.0,123999.0,123999.0,137999.0,135499.0,138999.0,138999.0,125999.0,126499.0,126999.0,128499.0,129999.0,129999.0,129999.0,129999.0,129999.0,130499.0,131499.0,154999.0,143999.0,132999.0,133499.0,134999.0,149999.0,149999.0,134999.0,149999.0,146999.0,146999.0,146999.0,146999.0,146999.0,159999.0,136999.0,136999.0,136999.0,137999.0,138999.0,139999.0,139999.0,139999.0,139999.0,156999.0,141999.0,142999.0,159999.0,159999.0,159999.0,144999.0,144999.0,144999.0,146999.0,149999.0,149999.0,149999.0,150999.0,169999.0,154999.0,154999.0,154999.0,169999.0,169999.0,156999.0,159999.0,159999.0,164999.0,169999.0,169999.0,169999.0,171999.0,174999.0,209999.0,179999.0,179999.0,179999.0,180999.0,184999.0,186999.0,204999.0,204999.0,209999.0,189999.0,229999.0,195999.0,219999.0,219999.0,219999.0,226999.0,226999.0,209999.0,234999.0,234999.0,227999.0,232999.0,234999.0,236999.0,243999.0,299999.0,284999.0,269999.0,274999.0,359999.0],[89.0,52.0,27.0,3.0,0.0,35.0,16.0,5.0,17.0,11.0,3.0,1.0,108.0,8.0,17.0,27.0,0.0,0.0,6.0,12.0,6.0,10.0,117.0,2.0,8.0,1.0,43.0,0.0,132.0,0.0,11.0,16.0,0.0,8.0,8.0,2.0,7.0,1.0,2.0,6.0,1.0,3.0,4.0,2.0,34.0,14.0,6.0,8.0,15.0,3.0,21.0,1.0,32.0,2.0,42.0,3.0,14.0,47.0,3.0,13.0,12.0,1.0,11.0,33.0,47.0,0.0,56.0,0.0,26.0,8.0,7.0,24.0,43.0,11.0,22.0,10.0,8.0,14.0,35.0,24.0,92.0,21.0,8.0,36.0,2.0,304.0,0.0,68.0,4.0,1.0,2.0,13.0,6.0,23.0,2.0,83.0,7.0,4.0,3.0,9.0,2.0,2.0,94.0,6.0,0.0,17.0,11.0,41.0,5.0,44.0,90.0,8.0,32.0,0.0,41.0,4.0,2.0,41.0,1.0,6.0,1.0,8.0,0.0,10.0,13.0,14.0,90.0,5.0,5.0,1.0,3.0,92.0,17.0,17.0,15.0,4.0,20.0,8.0,3.0,3.0,6.0,1.0,27.0,43.0,16.0,8.0,124.0,8.0,472.0,6.0,3.0,7.0,0.0,4.0,75.0,92.0,27.0,30.0,0.0,1.0,1.0,1.0,10.0,5.0,2.0,2.0,0.0,0.0,8.0,23.0,1.0,15.0,1.0,194.0,16.0,1.0,28.0,5.0,3.0,6.0,0.0,7.0,5.0,4.0,16.0,0.0,3.0,12.0,18.0,16.0,0.0,0.0,0.0,9.0,7.0,5.0,1.0,424.0,4.0,3.0,6.0,139.0,1.0,9.0,20.0,7.0,43.0,3.0,0.0,15.0,26.0,0.0,0.0,0.0,0.0,0.0,0.0,3.0,24.0,9.0,0.0,80.0,16.0,5.0,0.0,20.0,78.0,19.0,0.0,5.0,232.0,21.0,345.0,45.0,0.0,2.0,15.0,0.0,0.0,130.0,4.0,0.0,104.0,0.0,0.0,2.0,0.0,7.0,0.0,0.0,41.0,15.0,46.0,0.0,1.0,22.0,35.0,102.0,42.0,71.0,0.0,1.0,0.0,244.0,2.0,0.0,2.0,4.0,0.0,4.0,22.0,0.0,13.0,22.0,24.0,2.0,16.0,6.0,434.0,0.0,19.0,0.0,2.0,0.0,359.0,4.0,0.0,14.0,0.0,9.0,0.0,2.0,0.0,22.0,0.0,0.0,2.0,3.0,0.0,4.0,0.0,0.0,0.0,26.0,1.0,4.0,11.0,80.0,0.0,38.0,3.0,6.0,0.0,223.0,7.0,4.0,0.0,0.0,30.0,0.0,435.0,1.0,25.0,9.0,0.0,0.0,0.0,0.0,4.0,4.0,1.0,0.0,8.0,6.0,8.0,0.0,0.0,0.0,1.0,703.0,22.0,0.0,11.0,1.0,5.0,4.0,1.0,4.0,0.0,0.0,0.0,0.0,0.0,1.0,0.0,0.0,7.0,0.0,0.0,0.0,0.0,0.0,0.0,0.0,0.0,15.0,66.0,20.0,0.0,10.0,0.0,16.0,1.0,1.0,51.0,5.0,48.0,2.0,1.0,6.0,0.0,0.0,0.0,3.0,0.0,6.0,37.0,88.0,75.0,1.0,11.0,0.0,20.0,0.0,6.0,2.0,6.0,3.0,126.0,29.0,377.0,0.0,0.0,0.0,0.0,0.0,28.0,0.0,46.0,49.0,0.0,2.0,1.0,2.0,0.0,175.0,1.0,7.0,17.0,0.0,10.0,0.0,180.0,2.0,2.0,0.0,18.0,45.0,1.0,0.0,3.0,0.0,16.0,13.0,7.0,0.0,0.0,30.0,9.0,0.0,0.0,0.0,243.0,55.0,55.0,157.0,122.0,19.0,27.0,0.0,0.0,1.0,1.0,0.0,0.0,25.0,0.0,3.0,8.0,2.0,12.0,2.0,163.0,110.0,10.0,55.0,55.0,55.0,13.0,2.0,39.0,0.0,0.0,0.0,1.0,0.0,0.0,0.0,4.0,19.0,17.0,0.0,0.0,0.0,0.0,63.0,7.0,0.0,6.0,1.0,38.0,0.0,3.0,1.0,0.0,0.0,0.0,1.0,1.0,21.0,7.0,0.0,0.0,0.0,4.0,9.0,0.0,10.0,0.0,0.0,0.0,9.0,0.0,0.0,17.0,0.0,11.0,11.0,0.0,4.0,1.0,0.0,1.0,0.0,1.0,4.0,0.0,0.0,7.0,3.0,43.0,4.0,8.0,0.0,0.0,1.0,0.0,1.0,17.0,1.0,1.0,39.0,2.0,0.0,7.0,13.0,24.0,1.0,6.0,2.0,23.0,1.0,0.0,0.0,11.0,0.0,0.0,6.0,26.0,5.0,6.0,39.0,39.0,39.0,39.0,0.0,55.0,0.0,0.0,40.0,40.0,39.0,39.0,39.0,39.0,32.0,40.0,40.0,3.0,29.0,3.0,0.0,25.0,1.0,25.0,0.0,41.0,0.0,0.0,55.0,1.0,1.0,1.0,35.0,2.0,122.0,0.0,0.0,0.0,1.0,0.0,0.0,0.0,1.0,1.0,1.0,25.0,1.0,3.0,0.0,0.0,39.0,4.0,0.0,0.0,0.0,40.0,0.0,1.0,0.0,1.0,0.0,0.0,0.0,1.0,1.0,0.0,0.0,0.0,0.0,224.0,40.0,0.0,0.0,54.0,22.0,21.0,78.0,5.0,40.0,39.0,39.0,39.0,39.0,8.0,6.0,1.0,0.0,0.0,0.0,60.0,0.0,15.0,33.0,4.0,0.0,46.0,0.0,1.0,1.0,9.0,2.0,3.0,0.0,44.0,4.0,53.0,0.0,15.0,25.0,0.0,2.0,50.0,50.0,1.0,15.0,33.0,11.0,116.0,116.0,0.0,0.0,2.0,36.0,0.0,16.0,0.0,2.0,0.0,1.0,5.0,5.0,66.0,0.0,46.0,53.0,0.0,50.0,50.0,50.0,50.0,2.0,5.0,5.0,0.0,0.0,9.0,0.0,0.0,21.0,1.0,0.0,0.0,21.0]],\"type\":\"surface\"}],                        {\"legend\":{\"bgcolor\":\"#F5F6F9\",\"font\":{\"color\":\"#4D5663\"}},\"paper_bgcolor\":\"#F5F6F9\",\"plot_bgcolor\":\"#F5F6F9\",\"template\":{\"data\":{\"barpolar\":[{\"marker\":{\"line\":{\"color\":\"#E5ECF6\",\"width\":0.5},\"pattern\":{\"fillmode\":\"overlay\",\"size\":10,\"solidity\":0.2}},\"type\":\"barpolar\"}],\"bar\":[{\"error_x\":{\"color\":\"#2a3f5f\"},\"error_y\":{\"color\":\"#2a3f5f\"},\"marker\":{\"line\":{\"color\":\"#E5ECF6\",\"width\":0.5},\"pattern\":{\"fillmode\":\"overlay\",\"size\":10,\"solidity\":0.2}},\"type\":\"bar\"}],\"carpet\":[{\"aaxis\":{\"endlinecolor\":\"#2a3f5f\",\"gridcolor\":\"white\",\"linecolor\":\"white\",\"minorgridcolor\":\"white\",\"startlinecolor\":\"#2a3f5f\"},\"baxis\":{\"endlinecolor\":\"#2a3f5f\",\"gridcolor\":\"white\",\"linecolor\":\"white\",\"minorgridcolor\":\"white\",\"startlinecolor\":\"#2a3f5f\"},\"type\":\"carpet\"}],\"choropleth\":[{\"colorbar\":{\"outlinewidth\":0,\"ticks\":\"\"},\"type\":\"choropleth\"}],\"contourcarpet\":[{\"colorbar\":{\"outlinewidth\":0,\"ticks\":\"\"},\"type\":\"contourcarpet\"}],\"contour\":[{\"colorbar\":{\"outlinewidth\":0,\"ticks\":\"\"},\"colorscale\":[[0.0,\"#0d0887\"],[0.1111111111111111,\"#46039f\"],[0.2222222222222222,\"#7201a8\"],[0.3333333333333333,\"#9c179e\"],[0.4444444444444444,\"#bd3786\"],[0.5555555555555556,\"#d8576b\"],[0.6666666666666666,\"#ed7953\"],[0.7777777777777778,\"#fb9f3a\"],[0.8888888888888888,\"#fdca26\"],[1.0,\"#f0f921\"]],\"type\":\"contour\"}],\"heatmapgl\":[{\"colorbar\":{\"outlinewidth\":0,\"ticks\":\"\"},\"colorscale\":[[0.0,\"#0d0887\"],[0.1111111111111111,\"#46039f\"],[0.2222222222222222,\"#7201a8\"],[0.3333333333333333,\"#9c179e\"],[0.4444444444444444,\"#bd3786\"],[0.5555555555555556,\"#d8576b\"],[0.6666666666666666,\"#ed7953\"],[0.7777777777777778,\"#fb9f3a\"],[0.8888888888888888,\"#fdca26\"],[1.0,\"#f0f921\"]],\"type\":\"heatmapgl\"}],\"heatmap\":[{\"colorbar\":{\"outlinewidth\":0,\"ticks\":\"\"},\"colorscale\":[[0.0,\"#0d0887\"],[0.1111111111111111,\"#46039f\"],[0.2222222222222222,\"#7201a8\"],[0.3333333333333333,\"#9c179e\"],[0.4444444444444444,\"#bd3786\"],[0.5555555555555556,\"#d8576b\"],[0.6666666666666666,\"#ed7953\"],[0.7777777777777778,\"#fb9f3a\"],[0.8888888888888888,\"#fdca26\"],[1.0,\"#f0f921\"]],\"type\":\"heatmap\"}],\"histogram2dcontour\":[{\"colorbar\":{\"outlinewidth\":0,\"ticks\":\"\"},\"colorscale\":[[0.0,\"#0d0887\"],[0.1111111111111111,\"#46039f\"],[0.2222222222222222,\"#7201a8\"],[0.3333333333333333,\"#9c179e\"],[0.4444444444444444,\"#bd3786\"],[0.5555555555555556,\"#d8576b\"],[0.6666666666666666,\"#ed7953\"],[0.7777777777777778,\"#fb9f3a\"],[0.8888888888888888,\"#fdca26\"],[1.0,\"#f0f921\"]],\"type\":\"histogram2dcontour\"}],\"histogram2d\":[{\"colorbar\":{\"outlinewidth\":0,\"ticks\":\"\"},\"colorscale\":[[0.0,\"#0d0887\"],[0.1111111111111111,\"#46039f\"],[0.2222222222222222,\"#7201a8\"],[0.3333333333333333,\"#9c179e\"],[0.4444444444444444,\"#bd3786\"],[0.5555555555555556,\"#d8576b\"],[0.6666666666666666,\"#ed7953\"],[0.7777777777777778,\"#fb9f3a\"],[0.8888888888888888,\"#fdca26\"],[1.0,\"#f0f921\"]],\"type\":\"histogram2d\"}],\"histogram\":[{\"marker\":{\"pattern\":{\"fillmode\":\"overlay\",\"size\":10,\"solidity\":0.2}},\"type\":\"histogram\"}],\"mesh3d\":[{\"colorbar\":{\"outlinewidth\":0,\"ticks\":\"\"},\"type\":\"mesh3d\"}],\"parcoords\":[{\"line\":{\"colorbar\":{\"outlinewidth\":0,\"ticks\":\"\"}},\"type\":\"parcoords\"}],\"pie\":[{\"automargin\":true,\"type\":\"pie\"}],\"scatter3d\":[{\"line\":{\"colorbar\":{\"outlinewidth\":0,\"ticks\":\"\"}},\"marker\":{\"colorbar\":{\"outlinewidth\":0,\"ticks\":\"\"}},\"type\":\"scatter3d\"}],\"scattercarpet\":[{\"marker\":{\"colorbar\":{\"outlinewidth\":0,\"ticks\":\"\"}},\"type\":\"scattercarpet\"}],\"scattergeo\":[{\"marker\":{\"colorbar\":{\"outlinewidth\":0,\"ticks\":\"\"}},\"type\":\"scattergeo\"}],\"scattergl\":[{\"marker\":{\"colorbar\":{\"outlinewidth\":0,\"ticks\":\"\"}},\"type\":\"scattergl\"}],\"scattermapbox\":[{\"marker\":{\"colorbar\":{\"outlinewidth\":0,\"ticks\":\"\"}},\"type\":\"scattermapbox\"}],\"scatterpolargl\":[{\"marker\":{\"colorbar\":{\"outlinewidth\":0,\"ticks\":\"\"}},\"type\":\"scatterpolargl\"}],\"scatterpolar\":[{\"marker\":{\"colorbar\":{\"outlinewidth\":0,\"ticks\":\"\"}},\"type\":\"scatterpolar\"}],\"scatter\":[{\"marker\":{\"colorbar\":{\"outlinewidth\":0,\"ticks\":\"\"}},\"type\":\"scatter\"}],\"scatterternary\":[{\"marker\":{\"colorbar\":{\"outlinewidth\":0,\"ticks\":\"\"}},\"type\":\"scatterternary\"}],\"surface\":[{\"colorbar\":{\"outlinewidth\":0,\"ticks\":\"\"},\"colorscale\":[[0.0,\"#0d0887\"],[0.1111111111111111,\"#46039f\"],[0.2222222222222222,\"#7201a8\"],[0.3333333333333333,\"#9c179e\"],[0.4444444444444444,\"#bd3786\"],[0.5555555555555556,\"#d8576b\"],[0.6666666666666666,\"#ed7953\"],[0.7777777777777778,\"#fb9f3a\"],[0.8888888888888888,\"#fdca26\"],[1.0,\"#f0f921\"]],\"type\":\"surface\"}],\"table\":[{\"cells\":{\"fill\":{\"color\":\"#EBF0F8\"},\"line\":{\"color\":\"white\"}},\"header\":{\"fill\":{\"color\":\"#C8D4E3\"},\"line\":{\"color\":\"white\"}},\"type\":\"table\"}]},\"layout\":{\"annotationdefaults\":{\"arrowcolor\":\"#2a3f5f\",\"arrowhead\":0,\"arrowwidth\":1},\"autotypenumbers\":\"strict\",\"coloraxis\":{\"colorbar\":{\"outlinewidth\":0,\"ticks\":\"\"}},\"colorscale\":{\"diverging\":[[0,\"#8e0152\"],[0.1,\"#c51b7d\"],[0.2,\"#de77ae\"],[0.3,\"#f1b6da\"],[0.4,\"#fde0ef\"],[0.5,\"#f7f7f7\"],[0.6,\"#e6f5d0\"],[0.7,\"#b8e186\"],[0.8,\"#7fbc41\"],[0.9,\"#4d9221\"],[1,\"#276419\"]],\"sequential\":[[0.0,\"#0d0887\"],[0.1111111111111111,\"#46039f\"],[0.2222222222222222,\"#7201a8\"],[0.3333333333333333,\"#9c179e\"],[0.4444444444444444,\"#bd3786\"],[0.5555555555555556,\"#d8576b\"],[0.6666666666666666,\"#ed7953\"],[0.7777777777777778,\"#fb9f3a\"],[0.8888888888888888,\"#fdca26\"],[1.0,\"#f0f921\"]],\"sequentialminus\":[[0.0,\"#0d0887\"],[0.1111111111111111,\"#46039f\"],[0.2222222222222222,\"#7201a8\"],[0.3333333333333333,\"#9c179e\"],[0.4444444444444444,\"#bd3786\"],[0.5555555555555556,\"#d8576b\"],[0.6666666666666666,\"#ed7953\"],[0.7777777777777778,\"#fb9f3a\"],[0.8888888888888888,\"#fdca26\"],[1.0,\"#f0f921\"]]},\"colorway\":[\"#636efa\",\"#EF553B\",\"#00cc96\",\"#ab63fa\",\"#FFA15A\",\"#19d3f3\",\"#FF6692\",\"#B6E880\",\"#FF97FF\",\"#FECB52\"],\"font\":{\"color\":\"#2a3f5f\"},\"geo\":{\"bgcolor\":\"white\",\"lakecolor\":\"white\",\"landcolor\":\"#E5ECF6\",\"showlakes\":true,\"showland\":true,\"subunitcolor\":\"white\"},\"hoverlabel\":{\"align\":\"left\"},\"hovermode\":\"closest\",\"mapbox\":{\"style\":\"light\"},\"paper_bgcolor\":\"white\",\"plot_bgcolor\":\"#E5ECF6\",\"polar\":{\"angularaxis\":{\"gridcolor\":\"white\",\"linecolor\":\"white\",\"ticks\":\"\"},\"bgcolor\":\"#E5ECF6\",\"radialaxis\":{\"gridcolor\":\"white\",\"linecolor\":\"white\",\"ticks\":\"\"}},\"scene\":{\"xaxis\":{\"backgroundcolor\":\"#E5ECF6\",\"gridcolor\":\"white\",\"gridwidth\":2,\"linecolor\":\"white\",\"showbackground\":true,\"ticks\":\"\",\"zerolinecolor\":\"white\"},\"yaxis\":{\"backgroundcolor\":\"#E5ECF6\",\"gridcolor\":\"white\",\"gridwidth\":2,\"linecolor\":\"white\",\"showbackground\":true,\"ticks\":\"\",\"zerolinecolor\":\"white\"},\"zaxis\":{\"backgroundcolor\":\"#E5ECF6\",\"gridcolor\":\"white\",\"gridwidth\":2,\"linecolor\":\"white\",\"showbackground\":true,\"ticks\":\"\",\"zerolinecolor\":\"white\"}},\"shapedefaults\":{\"line\":{\"color\":\"#2a3f5f\"}},\"ternary\":{\"aaxis\":{\"gridcolor\":\"white\",\"linecolor\":\"white\",\"ticks\":\"\"},\"baxis\":{\"gridcolor\":\"white\",\"linecolor\":\"white\",\"ticks\":\"\"},\"bgcolor\":\"#E5ECF6\",\"caxis\":{\"gridcolor\":\"white\",\"linecolor\":\"white\",\"ticks\":\"\"}},\"title\":{\"x\":0.05},\"xaxis\":{\"automargin\":true,\"gridcolor\":\"white\",\"linecolor\":\"white\",\"ticks\":\"\",\"title\":{\"standoff\":15},\"zerolinecolor\":\"white\",\"zerolinewidth\":2},\"yaxis\":{\"automargin\":true,\"gridcolor\":\"white\",\"linecolor\":\"white\",\"ticks\":\"\",\"title\":{\"standoff\":15},\"zerolinecolor\":\"white\",\"zerolinewidth\":2}}},\"title\":{\"font\":{\"color\":\"#4D5663\"}},\"xaxis\":{\"gridcolor\":\"#E1E5ED\",\"showgrid\":true,\"tickfont\":{\"color\":\"#4D5663\"},\"title\":{\"font\":{\"color\":\"#4D5663\"},\"text\":\"\"},\"zerolinecolor\":\"#E1E5ED\"},\"yaxis\":{\"gridcolor\":\"#E1E5ED\",\"showgrid\":true,\"tickfont\":{\"color\":\"#4D5663\"},\"title\":{\"font\":{\"color\":\"#4D5663\"},\"text\":\"\"},\"zerolinecolor\":\"#E1E5ED\"}},                        {\"showLink\": true, \"linkText\": \"Export to plot.ly\", \"plotlyServerURL\": \"https://plot.ly\", \"responsive\": true}                    ).then(function(){\n",
       "                            \n",
       "var gd = document.getElementById('c65dad29-81aa-4e85-90b9-54af753cdf5a');\n",
       "var x = new MutationObserver(function (mutations, observer) {{\n",
       "        var display = window.getComputedStyle(gd).display;\n",
       "        if (!display || display === 'none') {{\n",
       "            console.log([gd, 'removed!']);\n",
       "            Plotly.purge(gd);\n",
       "            observer.disconnect();\n",
       "        }}\n",
       "}});\n",
       "\n",
       "// Listen for the removal of the full notebook cells\n",
       "var notebookContainer = gd.closest('#notebook-container');\n",
       "if (notebookContainer) {{\n",
       "    x.observe(notebookContainer, {childList: true});\n",
       "}}\n",
       "\n",
       "// Listen for the clearing of the current output cell\n",
       "var outputEl = gd.closest('.output');\n",
       "if (outputEl) {{\n",
       "    x.observe(outputEl, {childList: true});\n",
       "}}\n",
       "\n",
       "                        })                };                });            </script>        </div>"
      ]
     },
     "metadata": {},
     "output_type": "display_data"
    }
   ],
   "source": [
    "df_new = dns_laptop_df[['rating','price','votes']]\n",
    "df_new.iplot(kind='surface', colorscale='rdylbu')"
   ]
  },
  {
   "cell_type": "markdown",
   "metadata": {},
   "source": [
    "## Зависимость рейтинга ноутбука от его производителя"
   ]
  },
  {
   "cell_type": "code",
   "execution_count": 24,
   "metadata": {},
   "outputs": [
    {
     "data": {
      "text/plain": [
       "<AxesSubplot:xlabel='rating', ylabel='brand'>"
      ]
     },
     "execution_count": 24,
     "metadata": {},
     "output_type": "execute_result"
    },
    {
     "data": {
      "image/png": "[encoded data removed]",
      "text/plain": [
       "<Figure size 864x432 with 1 Axes>"
      ]
     },
     "metadata": {},
     "output_type": "display_data"
    }
   ],
   "source": [
    "fig = plt.figure(figsize=(12,6))\n",
    "sns.boxplot(x='rating', y='brand', data=dns_laptop_df,palette='rainbow')"
   ]
  },
  {
   "cell_type": "markdown",
   "metadata": {},
   "source": [
    "Как мы видим, у брэндов ASUS, Acer, Dell, Xiomi, Infinix и у ноутбуков Apple практически нет выбросов в рейтинге. При этом разнообразие мнений у любителей продукции Apple намного меньше, впрочем, это уже отмечалось ранее.\n",
    "Что касается стоимости, то самый большой разброс по стоимости продукции у компании MSI."
   ]
  },
  {
   "cell_type": "markdown",
   "metadata": {},
   "source": [
    "## Распределение цен ноутбуков без учёта скидки по производителям"
   ]
  },
  {
   "cell_type": "code",
   "execution_count": 25,
   "metadata": {},
   "outputs": [
    {
     "data": {
      "text/plain": [
       "<AxesSubplot:xlabel='price', ylabel='brand'>"
      ]
     },
     "execution_count": 25,
     "metadata": {},
     "output_type": "execute_result"
    },
    {
     "data": {
      "image/png": "[encoded data removed]",
      "text/plain": [
       "<Figure size 864x432 with 1 Axes>"
      ]
     },
     "metadata": {},
     "output_type": "display_data"
    }
   ],
   "source": [
    "fig = plt.figure(figsize=(12,6))\n",
    "\n",
    "sns.boxplot(x='price', y='brand', data=dns_laptop_df, palette='rainbow')"
   ]
  },
  {
   "cell_type": "markdown",
   "metadata": {},
   "source": [
    "По представленному графику можно выделить производителей нижнего ценового сегмента, такие как Irbis, Digma, Echips, TCL, Chuwi, Tecno. Ровно как и производителей дорогой электроники - Apple, AORUS (ASUS), Gigabyte и Maibenben (кто это?). Есть производители, имеющие достаточно ширкую линейку моделей, такие как Lenovo, ASUS, Acer, HP, MSI, сосредоточенные на средний ценовой сегмент, но выпускающие вместе с этим продвинутые модели (можно наблюдать характерные выбросы цены)."
   ]
  },
  {
   "cell_type": "markdown",
   "metadata": {},
   "source": [
    "## Распределение цен ноутбуков с учётом скидки по производителям"
   ]
  },
  {
   "cell_type": "code",
   "execution_count": 26,
   "metadata": {},
   "outputs": [
    {
     "data": {
      "text/plain": [
       "<AxesSubplot:xlabel='price_discount', ylabel='brand'>"
      ]
     },
     "execution_count": 26,
     "metadata": {},
     "output_type": "execute_result"
    },
    {
     "data": {
      "image/png": "[encoded data removed]",
      "text/plain": [
       "<Figure size 864x432 with 1 Axes>"
      ]
     },
     "metadata": {},
     "output_type": "display_data"
    }
   ],
   "source": [
    "fig = plt.figure(figsize=(12,6))\n",
    "\n",
    "sns.boxplot(x='price_discount', y='brand', data=dns_laptop_df, palette='rainbow')"
   ]
  },
  {
   "cell_type": "markdown",
   "metadata": {},
   "source": [
    "Ну вот теперь всё встало на места - тёмная лошадка Meibenben явно завышает цену и после назначения скидки средняя цена ноутбука уходит в средний ценовой сегмент. Маркертинг."
   ]
  },
  {
   "cell_type": "markdown",
   "metadata": {},
   "source": [
    "## Распределение величины дисконта по брендам"
   ]
  },
  {
   "cell_type": "code",
   "execution_count": 27,
   "metadata": {},
   "outputs": [
    {
     "data": {
      "text/plain": [
       "<AxesSubplot:xlabel='discount', ylabel='brand'>"
      ]
     },
     "execution_count": 27,
     "metadata": {},
     "output_type": "execute_result"
    },
    {
     "data": {
      "image/png": "[encoded data removed]",
      "text/plain": [
       "<Figure size 864x432 with 1 Axes>"
      ]
     },
     "metadata": {},
     "output_type": "display_data"
    }
   ],
   "source": [
    "fig = plt.figure(figsize=(12,6))\n",
    "\n",
    "sns.boxplot(x='discount', y='brand', data=dns_laptop_df, palette='rainbow')"
   ]
  },
  {
   "cell_type": "markdown",
   "metadata": {},
   "source": [
    "Максимальные скидки на свои модели даёт уже упомянутый Maibenben. Следует отметить, что производители ноутбуков нижнего ценового сегмента практически не назначают дополнительный дисконт."
   ]
  },
  {
   "cell_type": "markdown",
   "metadata": {},
   "source": [
    "## Распределение стоимости ноутбука в зависимости от типа матрицы экрана"
   ]
  },
  {
   "cell_type": "code",
   "execution_count": 28,
   "metadata": {},
   "outputs": [
    {
     "data": {
      "text/plain": [
       "<AxesSubplot:xlabel='price', ylabel='screen_type'>"
      ]
     },
     "execution_count": 28,
     "metadata": {},
     "output_type": "execute_result"
    },
    {
     "data": {
      "image/png": "[encoded data removed]",
      "text/plain": [
       "<Figure size 864x432 with 1 Axes>"
      ]
     },
     "metadata": {},
     "output_type": "display_data"
    }
   ],
   "source": [
    "fig = plt.figure(figsize=(12,6))\n",
    "\n",
    "sns.boxplot(x='price', y='screen_type', data=dns_laptop_df, palette='rainbow')"
   ]
  },
  {
   "cell_type": "markdown",
   "metadata": {},
   "source": [
    "Прослеживается чёткая взаимосвязь, в дешёвых моделях TN матрица, в дорогих - mini LED."
   ]
  },
  {
   "cell_type": "markdown",
   "metadata": {},
   "source": [
    "## Распределение стоимости ноутбука в зависимости от типа процессора"
   ]
  },
  {
   "cell_type": "code",
   "execution_count": 29,
   "metadata": {},
   "outputs": [
    {
     "data": {
      "text/plain": [
       "<AxesSubplot:xlabel='price', ylabel='cpu_vendor'>"
      ]
     },
     "execution_count": 29,
     "metadata": {},
     "output_type": "execute_result"
    },
    {
     "data": {
      "image/png": "[encoded data removed]",
      "text/plain": [
       "<Figure size 864x432 with 1 Axes>"
      ]
     },
     "metadata": {},
     "output_type": "display_data"
    }
   ],
   "source": [
    "fig = plt.figure(figsize=(12,6))\n",
    "\n",
    "sns.boxplot(x='price', y='cpu_vendor', data=dns_laptop_df, palette='rainbow')"
   ]
  },
  {
   "cell_type": "markdown",
   "metadata": {},
   "source": [
    "Всё вполне объяснимо: процессоры Apple установлены в ограниченном количестве линейки ноутбуков одного производителя, стоимость которых достаточно высока. Кроме этого следует отметить, что процессор Intel чаще установливают в более дорогих моделях ноутбуков по сравнению с AMD."
   ]
  },
  {
   "cell_type": "markdown",
   "metadata": {},
   "source": [
    "## Зависимость веса ноутбука от максимальной потребляемой мощности"
   ]
  },
  {
   "cell_type": "code",
   "execution_count": 30,
   "metadata": {},
   "outputs": [
    {
     "data": {
      "text/plain": [
       "<seaborn.axisgrid.JointGrid at 0x1531572b0>"
      ]
     },
     "execution_count": 30,
     "metadata": {},
     "output_type": "execute_result"
    },
    {
     "data": {
      "text/plain": [
       "<Figure size 864x576 with 0 Axes>"
      ]
     },
     "metadata": {},
     "output_type": "display_data"
    },
    {
     "data": {
      "image/png": "[encoded data removed]",
      "text/plain": [
       "<Figure size 432x432 with 3 Axes>"
      ]
     },
     "metadata": {},
     "output_type": "display_data"
    }
   ],
   "source": [
    "fig = plt.figure(figsize=(12,8))\n",
    "sns.jointplot(x='weight', y='power_consumption_max', data=dns_laptop_df)"
   ]
  },
  {
   "cell_type": "markdown",
   "metadata": {},
   "source": [
    "Из диаграммы видна зависимость веса ноутбука от максимального энергопотребления."
   ]
  },
  {
   "cell_type": "markdown",
   "metadata": {},
   "source": [
    "## Выводы"
   ]
  },
  {
   "cell_type": "markdown",
   "metadata": {},
   "source": [
    "В датасете имеется вполне определенный набор числовых признаков, на основе которых можно сделать выводы относительно цены ноутбука, а вот оценка пользователей в меньшей степени зависит от характеристик ноутбука, выраженных числовыми признаками, и в большей степени от категориальных, вроде марки производителя.\\\n",
    "В целом интернет-магазин удовлетворяет интересам пользователей. Наибольшей популярностью пользуются ноутбуки под ОП Windows таких брэндов как Acer, Lenovo и Asus, которые и представляют основной ассортимент продукции магазина. \n",
    "Пользователи в целом скорее довольны покупкой и условиями, которые им предоставляет интернет-магазин. "
   ]
  }
 ],
 "metadata": {
  "kernelspec": {
   "display_name": "Python 3 (ipykernel)",
   "language": "python",
   "name": "python3"
  },
  "language_info": {
   "codemirror_mode": {
    "name": "ipython",
    "version": 3
   },
   "file_extension": ".py",
   "mimetype": "text/x-python",
   "name": "python",
   "nbconvert_exporter": "python",
   "pygments_lexer": "ipython3",
   "version": "3.9.12"
  }
 },
 "nbformat": 4,
 "nbformat_minor": 4
}
